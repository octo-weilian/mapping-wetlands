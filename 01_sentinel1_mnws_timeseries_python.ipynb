{
 "cells": [
  {
   "cell_type": "code",
   "execution_count": null,
   "metadata": {},
   "outputs": [],
   "source": [
    "import os\n",
    "from glob import glob\n",
    "import rasterio as rio\n",
    "import numpy as np\n",
    "from tqdm import tqdm,tqdm_notebook\n",
    "from rasterio.plot import reshape_as_image,reshape_as_raster\n",
    "import re\n",
    "import pandas as pd\n",
    "import json\n",
    "import geopandas as gpd\n",
    "\n",
    "import seaborn as sns\n",
    "from rasterio.features import rasterize\n",
    "import matplotlib.pyplot as plt\n",
    "from IPython.core.display import display, HTML\n",
    "display(HTML(\"<style>.container { width:90% !important; }</style>\"))\n",
    "\n",
    "from sklearn.cluster import MiniBatchKMeans\n",
    "from rasterio.features import sieve\n",
    "from rasterio.plot import reshape_as_image\n",
    "from affine import Affine"
   ]
  },
  {
   "cell_type": "code",
   "execution_count": null,
   "metadata": {},
   "outputs": [],
   "source": [
    "from scipy.ndimage.filters import uniform_filter\n",
    "from scipy.ndimage.measurements import variance\n",
    "from skimage.filters import threshold_otsu,threshold_multiotsu\n",
    "def lee_filter(img, size):\n",
    "    img_mean = uniform_filter(img, (size, size))\n",
    "    img_sqr_mean = uniform_filter(img**2, (size, size))\n",
    "    img_variance = img_sqr_mean - img_mean**2\n",
    "\n",
    "    overall_variance = variance(img)\n",
    "\n",
    "    img_weights = img_variance / (img_variance + overall_variance)\n",
    "    img_output = img_mean + img_weights * (img - img_mean)\n",
    "    return img_output\n",
    "\n",
    "def compute_s1_rws(band):\n",
    "    thresh = threshold_multiotsu(vh_lee,classes=3)\n",
    "    regions = np.digitize(vh_lee, bins=thresh)\n",
    "    s1_rws = np.where(regions==0,1,0).astype(rio.uint8)\n",
    "    return s1_rws"
   ]
  },
  {
   "cell_type": "code",
   "execution_count": null,
   "metadata": {},
   "outputs": [],
   "source": [
    "%%time\n",
    "\n",
    "#Speckle filter (Lee's)\n",
    "s1_files = glob(f'{os.path.abspath(\"..\")}s1_2017/*.tif')\n",
    "\n",
    "with rio.open(s1_files[-1]) as src:\n",
    "    profile = src.profile.copy()\n",
    "    img = src.read()\n",
    "    vv,vh = img[0],img[1]\n",
    "    vv[np.isnan(vv)]=0\n",
    "    vh[np.isnan(vh)]=0\n",
    "    \n",
    "    vh_lee = lee_filter(vh,5)\n",
    "    vv_lee = lee_filter(vv,5)\n",
    "    s1_stack = np.array([vv_lee,vh_lee]).astype(rio.float32)\n",
    "    \n",
    "    #s1 rws \n",
    "    s1_rws = compute_s1_rws(vh_lee)\n",
    "    s1_stack_sample = np.where(s1_rws==1,s1_stack,0)\n",
    "    \n",
    "    \n",
    "    #export as geotiff\n",
    "    profile.update({'dtype':out_img.dtype,'nodata':0,'count':1})\n",
    "    with rio.open('test.tif','w',**profile) as dst:\n",
    "        dst.write(np.array([out_img]) )\n"
   ]
  },
  {
   "cell_type": "code",
   "execution_count": null,
   "metadata": {},
   "outputs": [],
   "source": []
  },
  {
   "cell_type": "code",
   "execution_count": null,
   "metadata": {},
   "outputs": [],
   "source": []
  }
 ],
 "metadata": {
  "kernelspec": {
   "display_name": "Python 3",
   "language": "python",
   "name": "python3"
  },
  "language_info": {
   "codemirror_mode": {
    "name": "ipython",
    "version": 3
   },
   "file_extension": ".py",
   "mimetype": "text/x-python",
   "name": "python",
   "nbconvert_exporter": "python",
   "pygments_lexer": "ipython3",
   "version": "3.6.10"
  }
 },
 "nbformat": 4,
 "nbformat_minor": 4
}
