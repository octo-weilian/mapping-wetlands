{
 "cells": [
  {
   "cell_type": "markdown",
   "metadata": {},
   "source": [
    "### Download Sentinel-2 image collection"
   ]
  },
  {
   "cell_type": "code",
   "execution_count": null,
   "metadata": {},
   "outputs": [],
   "source": [
    "import geemap\n",
    "import json\n",
    "import os\n",
    "import requests\n",
    "from geemap import geojson_to_ee, ee_to_geojson\n",
    "from ipyleaflet import GeoJSON\n",
    "import pandas as pd\n",
    "import ee\n",
    "import numpy as np\n",
    "\n",
    "#initialize GEE using your Google Account\n",
    "try:\n",
    "    ee.Initialize()\n",
    "except Exception as e:\n",
    "    ee.Authenticate()\n",
    "    ee.Initialize()"
   ]
  },
  {
   "cell_type": "code",
   "execution_count": null,
   "metadata": {
    "scrolled": false
   },
   "outputs": [],
   "source": [
    "Map = geemap.Map(center=[-27.93186,32.48897],zoom=9)\n",
    "Map.add_basemap('SATELLITE')\n",
    "Map.add_basemap('CartoDB.DarkMatter')\n",
    "\n",
    "file_path = './data/boundaries/isimangaliso_lesser_bbox.geojson'\n",
    "with open(file_path) as f:\n",
    "    data = json.load(f)\n",
    "    coord = data['features'][0]['geometry']['coordinates'][0][0]\n",
    "    line_geom = ee.Geometry.LineString(coord)\n",
    "    poly_geom = ee.Geometry.Polygon(coord)\n",
    "\n",
    "srtm30 = ee.Image('USGS/SRTMGL1_003').select('elevation').clip(poly_geom)\n",
    "elevationVis = {'min': 3,'max': 800.0,\n",
    "                'palette': [\n",
    "                    '3ae237', 'b5e22e', 'd6e21f', 'fff705', 'ffd611', 'ffb613', 'ff8b13',\n",
    "                    'ff6e08', 'ff500d', 'ff0000', 'de0101', 'c21301', '0602ff', '235cb1',\n",
    "                    '307ef3', '269db1', '30c8e2', '32d3ef', '3be285', '3ff38f', '86e26f']}\n",
    "Map.addLayer(srtm30, elevationVis, \"SRTM 30m\")\n",
    "\n",
    "Map.addLayer(ee_object=line_geom, vis_params={'color':'red'}, name=\"Lesser Isimangaliso Wetland Park\")\n",
    "Map"
   ]
  },
  {
   "cell_type": "code",
   "execution_count": null,
   "metadata": {},
   "outputs": [],
   "source": [
    "jrc_gsws = ee.ImageCollection(\"JRC/GSW1_1/YearlyHistory\")\n",
    "jrc_gsws_list = jrc_gsws.toList(jrc_gsws.size())\n",
    "jrc_gsws_2016 = ee.Image(jrc_gsws_list.get(32)).clip(poly_geom)\n",
    "vis_season = {'min':0,'max':3,'palette': ['cccccc','ffffff','99d9ea','0000ff']}\n",
    "Map.addLayer(jrc_gsws_2016, vis_season, \"JRC GSWS 2016\")"
   ]
  },
  {
   "cell_type": "code",
   "execution_count": null,
   "metadata": {},
   "outputs": [],
   "source": [
    "#create random points\n",
    "fg_points = ee.FeatureCollection.randomPoints(poly_geom,points=300, seed=42, maxError=1)\n",
    "Map.addLayer(fg_points , {'color': 'FF0000'}, 'points')"
   ]
  },
  {
   "cell_type": "code",
   "execution_count": null,
   "metadata": {},
   "outputs": [],
   "source": []
  },
  {
   "cell_type": "code",
   "execution_count": null,
   "metadata": {},
   "outputs": [],
   "source": [
    "collection = ee.ImageCollection(\"COPERNICUS/S2\") \\\n",
    "    .filterBounds(poly_geom).filterDate('2016-01-05','2016-01-31') \\\n",
    "    .filter(ee.Filter.inList('MGRS_TILE', ['36JVP','36JVQ'])) \\\n",
    "    .filter(ee.Filter.lte('CLOUDY_PIXEL_PERCENTAGE', 30)) \\\n",
    "    .select(['B4', 'B3', 'B2'])\n",
    "\n",
    "collection = ee.ImageCollection([ee.Image(collection_list.get(0)),ee.Image(collection_list.get(1))])\n",
    "collection_list = collection.toList(collection.size())\n",
    "print(f'Found: {collection.size().getInfo()} matches')"
   ]
  },
  {
   "cell_type": "code",
   "execution_count": null,
   "metadata": {
    "scrolled": true
   },
   "outputs": [],
   "source": [
    "for i in range(collection_list.size().getInfo()):\n",
    "    data = collection_list.get(i).getInfo()['properties']['PRODUCT_ID']\n",
    "    print(data)"
   ]
  },
  {
   "cell_type": "code",
   "execution_count": null,
   "metadata": {},
   "outputs": [],
   "source": []
  },
  {
   "cell_type": "code",
   "execution_count": null,
   "metadata": {},
   "outputs": [],
   "source": [
    "latest_meta = collection_list.get(1)\n",
    "geom = ee.Image(latest_meta).geometry()\n",
    "tile = latest_meta.getInfo()['properties']['PRODUCT_ID'].split('_')[5]\n",
    "Map.addLayer(geom , {'color': 'FF0000'}, tile)"
   ]
  },
  {
   "cell_type": "code",
   "execution_count": null,
   "metadata": {},
   "outputs": [],
   "source": [
    "s1_collection = ee.ImageCollection('COPERNICUS/S1_GRD') \\\n",
    "    .filterBounds(line_geom).filterDate('2019-01-01','2019-01-30') \\\n",
    "    .filter(ee.Filter.eq('instrumentMode', 'IW')) \\\n",
    "    .filter(ee.Filter.listContains('transmitterReceiverPolarisation', 'VV')) \\\n",
    "    .filter(ee.Filter.listContains('transmitterReceiverPolarisation', 'VH')) \\\n",
    "    .filter(ee.Filter.eq('orbitProperties_pass', 'ASCENDING')) \\\n",
    "    .filterMetadata('resolution_meters', 'equals' , 10)\n",
    "\n",
    "print(f'Found:{s1_collection.size().getInfo()} matches')\n",
    "s1_collection_list = s1_collection.toList(s1_collection.size())\n"
   ]
  },
  {
   "cell_type": "code",
   "execution_count": null,
   "metadata": {},
   "outputs": [],
   "source": [
    "for i in range(s1_collection.size().getInfo()):\n",
    "    try:\n",
    "        date_0 = str(pd.to_datetime(s1_collection_list.get(i).getInfo()['id'].split('_')[5].split('T')[0]).date())\n",
    "        date_1 = str(pd.to_datetime(s1_collection_list.get(i+1).getInfo()['id'].split('_')[5].split('T')[0]).date())\n",
    "        if date_0 == date_1:\n",
    "            img_0 = ee.Image(s1_collection_list.get(i)).select('VH').clip(poly_geom)\n",
    "            img_1 = ee.Image(s1_collection_list.get(i+1)).select('VH').clip(poly_geom)\n",
    "            img_mos = ee.ImageCollection([img_0,img_1]).mosaic()\n",
    "            Map.addLayer(img_mos,{'min': -20, 'max': 10},f'{date_1} VH')\n",
    "            \n",
    "    except Exception:\n",
    "        pass\n"
   ]
  },
  {
   "cell_type": "code",
   "execution_count": null,
   "metadata": {},
   "outputs": [],
   "source": []
  },
  {
   "cell_type": "code",
   "execution_count": null,
   "metadata": {},
   "outputs": [],
   "source": [
    "image = collection.mosaic().clip(poly_geom)\n",
    "vizParams = {\n",
    "    'bands': ['B4', 'B3', 'B2'],\n",
    "    'gain': [0.1, 0.1, 0.1],\n",
    "    'scale':10\n",
    "}\n",
    "\n",
    "Map.addLayer(image, vizParams, '2016-01-05')\n"
   ]
  },
  {
   "cell_type": "code",
   "execution_count": null,
   "metadata": {},
   "outputs": [],
   "source": [
    "geemap.ee_export_image(jrc_gsws_2016, filename='./data/test.tif', scale=20, file_per_band=False)\n",
    "if os.path.exists('./data/test.tif'):\n",
    "    os.remove('./data/test.zip')"
   ]
  },
  {
   "cell_type": "code",
   "execution_count": null,
   "metadata": {},
   "outputs": [],
   "source": []
  },
  {
   "cell_type": "code",
   "execution_count": null,
   "metadata": {
    "scrolled": true
   },
   "outputs": [],
   "source": [
    "def get_meta_s2(meta):\n",
    "    product_id = meta['properties']['PRODUCT_ID']\n",
    "    date = pd.to_datetime(product_id.split('_')[2].split('T')[0]).date()\n",
    "    tile = product_id.split('_')[5]\n",
    "    cloud_cover = round(meta['properties']['CLOUD_COVERAGE_ASSESSMENT'],2)\n",
    "    data = {'id':product_id,'date':date,'tile':tile,'cloudcover':cloud_cover}\n",
    "    df = pd.DataFrame(data,index=[0])\n",
    "    return df"
   ]
  },
  {
   "cell_type": "code",
   "execution_count": null,
   "metadata": {},
   "outputs": [],
   "source": [
    "products = list(map(get_meta_s2,collection_list.getInfo()))\n",
    "products_df = pd.concat(products).reset_index(drop=True)\n",
    "products_df"
   ]
  },
  {
   "cell_type": "code",
   "execution_count": null,
   "metadata": {
    "scrolled": true
   },
   "outputs": [],
   "source": []
  }
 ],
 "metadata": {
  "kernelspec": {
   "display_name": "Python 3",
   "language": "python",
   "name": "python3"
  },
  "language_info": {
   "codemirror_mode": {
    "name": "ipython",
    "version": 3
   },
   "file_extension": ".py",
   "mimetype": "text/x-python",
   "name": "python",
   "nbconvert_exporter": "python",
   "pygments_lexer": "ipython3",
   "version": "3.8.2"
  }
 },
 "nbformat": 4,
 "nbformat_minor": 4
}
