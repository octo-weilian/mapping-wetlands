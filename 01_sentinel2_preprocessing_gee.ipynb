{
 "cells": [
  {
   "cell_type": "markdown",
   "metadata": {},
   "source": [
    "### Notebook for preprocessing Sentinel-2 from GEE"
   ]
  },
  {
   "cell_type": "code",
   "execution_count": null,
   "metadata": {},
   "outputs": [],
   "source": [
    "#atmospheric correction module\n",
    "from Py6S import *\n",
    "from python.atmospheric import Atmospheric\n",
    "\n",
    "#other modules\n",
    "import json\n",
    "import os\n",
    "import re\n",
    "import pandas as pd\n",
    "import numpy as np\n",
    "from matplotlib.pyplot import imshow\n",
    "from PIL import Image,ImageDraw,ImageFont\n",
    "import urllib.request\n",
    "from glob import glob\n",
    "import math\n",
    "import datetime\n",
    "\n",
    "#GEE modules\n",
    "import ee\n",
    "from geemap import *\n",
    "\n",
    "#initialize GEE \n",
    "try:\n",
    "    ee.Initialize()\n",
    "except Exception as e:\n",
    "    ee.Authenticate()\n",
    "    ee.Initialize()\n",
    "    \n",
    "#alter width notebook page   \n",
    "from IPython.core.display import display, HTML\n",
    "display(HTML(\"<style>.container { width:90% !important; }</style>\"))\n"
   ]
  },
  {
   "cell_type": "markdown",
   "metadata": {},
   "source": [
    "#### Compute Sentinel-2 mosaics"
   ]
  },
  {
   "cell_type": "code",
   "execution_count": null,
   "metadata": {},
   "outputs": [],
   "source": [
    "#helper functions\n",
    "def create_mosaic(collection,date_list):\n",
    "    \n",
    "    def match_date(date):\n",
    "        dt = ee.Date(date).format('yyyy-MM-dd')\n",
    "        dm = ee.Date(date).format('yyyy-MM')\n",
    "        return collection.filter(ee.Filter.eq('system:time_start', date)).mosaic().set({'Date':dt,'Month':dm})\n",
    "        \n",
    "    return date_list.map(match_date)\n",
    "\n",
    "def export_frames(collection,aoi,dir_name,annot_list,bands = ['B11', 'B8', 'B3']):\n",
    "    \n",
    "    print(f'Exporting {len(annot_list)} frames...')\n",
    "    \n",
    "    args = {'dimensions': 540,'bands': bands,'gain': [0.08, 0.08, 0.08],'region': aoi}\n",
    "    url = collection.getFilmstripThumbURL(args)\n",
    "    \n",
    "    os.makedirs(dir_name,exist_ok=True)\n",
    "\n",
    "    saved_strips = urllib.request.urlretrieve(url,f'{dir_name}.png')[0]\n",
    "    \n",
    "    img_arr = np.array(Image.open(saved_strips))\n",
    "    img_stack = img_arr.reshape(len(annot_list),img_arr.shape[0]//len(annot_list),img_arr.shape[1],img_arr.shape[2])\n",
    "    \n",
    "    for i in range(len(annot_list)):\n",
    "        img_pil = Image.fromarray(img_stack[i])\n",
    "        ImageDraw.Draw(img_pil).text((0, 0),annot_list[i],font = ImageFont.truetype(\"arial.ttf\", 20),fill=(124,252,0))\n",
    "        annot= annot_list[i]\n",
    "        fn = f\"{dir_name}/{dir_name.split('/')[-1]}_{annot}.png\"  \n",
    "        img_pil.save(fn)\n",
    "        \n",
    "    os.remove(saved_strips)\n",
    "    print(f'{len(annot_list)} frames exported in {dir_name}')\n",
    "    \n",
    "def plot_rgb(img,text,bands = ['B4', 'B3', 'B2']):\n",
    "    viz_rgb = {'bands': bands,'gain': [0.1, 0.1, 0.1],'scale':90}\n",
    "    Map.addLayer(img, viz_rgb, text+' RGB')"
   ]
  },
  {
   "cell_type": "code",
   "execution_count": null,
   "metadata": {},
   "outputs": [],
   "source": [
    "#study area\n",
    "file_path = './data/boundaries/ramsar_stlucia_bbox.geojson'\n",
    "with open(file_path) as f:\n",
    "    data = json.load(f)\n",
    "    coord = data['features'][0]['geometry']['coordinates'][0]\n",
    "    geom = ee.Geometry.Polygon(coord)\n",
    "    \n",
    "    \n",
    "Map = geemap.Map(center=[-27.93186,32.48897],zoom=9)\n",
    "Map.addLayer(ee_object=geom, vis_params={'color':'red'}, name=\"Lesser Isimangaliso Wetland Park\")\n",
    "Map"
   ]
  },
  {
   "cell_type": "code",
   "execution_count": null,
   "metadata": {},
   "outputs": [],
   "source": [
    "#get Sentinel-2 Level-1C collection for 2017 with less than 50% cloud cover\n",
    "\n",
    "cl_pct = 50\n",
    "\n",
    "band_names = ['B2','B3','B4','B5','B6','B7','B8','B8A','B10','B11','B12']\n",
    "\n",
    "s2_col = ee.ImageCollection(\"COPERNICUS/S2\") \\\n",
    "    .filterBounds(geom).filterDate('2017-01-01','2017-12-31') \\\n",
    "    .filter(ee.Filter.inList('MGRS_TILE', ['36JVP','36JVQ'])) \\\n",
    "    .filter(ee.Filter.lte('CLOUDY_PIXEL_PERCENTAGE', cl_pct)).map(lambda x:x.clip(geom)).select(band_names)\n",
    "\n",
    "s2_col_list = s2_col.toList(s2_col.size())\n",
    "\n",
    "print(s2_col.filter(ee.Filter(ee.Filter.eq('MGRS_TILE', '36JVQ'))).size().getInfo(),' - 36JVQ images')\n",
    "print(s2_col.filter(ee.Filter(ee.Filter.eq('MGRS_TILE', '36JVP'))).size().getInfo(),' - 36JVP images')\n"
   ]
  },
  {
   "cell_type": "code",
   "execution_count": null,
   "metadata": {
    "scrolled": true
   },
   "outputs": [],
   "source": [
    "#create a mosaic from 36JVP and 36JVQ tiles with matching dates\n",
    "unique_dates = s2_col_list.map(lambda x:ee.Image(x).get('system:time_start')).distinct()\n",
    "\n",
    "#get unique dates\n",
    "un_dates = s2_col_list.map(lambda x:ee.Image(x).get('system:time_start')).distinct()\n",
    "\n",
    "#get number of images with respect to matching dates\n",
    "get_nr_match = lambda x: (s2_col.filter(ee.Filter.eq('system:time_start', x)).size(),x)\n",
    "matches = un_dates.map(get_nr_match).getInfo()\n",
    "\n",
    "#filter dates that have two images\n",
    "un_dates_fil = ee.List([b for a,b in matches if a==2])\n",
    "\n",
    "#create mosaics\n",
    "s2_mos = create_mosaic(s2_col,un_dates_fil)\n",
    "s2_mos_col = ee.ImageCollection(s2_mos).sort('Date')\n",
    "\n",
    "print('Nr. mosaics: ',s2_mos_col.size().getInfo())"
   ]
  },
  {
   "cell_type": "code",
   "execution_count": null,
   "metadata": {
    "scrolled": false
   },
   "outputs": [],
   "source": [
    "# #export mosaics as PNGs for further visual inspection\n",
    "dir_name = './data/ts_animation/2017_cl50'\n",
    "\n",
    "annotations = list(map(lambda x:x.replace('-',''),s2_mos_col.aggregate_array('Date').getInfo()))\n",
    "\n",
    "export_frames(s2_mos_col,\n",
    "              geom,\n",
    "              dir_name,\n",
    "              annotations)"
   ]
  },
  {
   "cell_type": "code",
   "execution_count": null,
   "metadata": {},
   "outputs": [],
   "source": [
    "#select best mosaics \n",
    "selected_dir_name = './data/ts_animation/2017_cl50_selected'\n",
    "selected_dates = [re.findall(r\"(\\d{8})\",os.path.basename(path))[0] for path in glob.glob(f'{selected_dir_name}/*.png')]\n",
    "date_format = ee.List(list(pd.to_datetime(selected_dates).astype(str)))\n",
    "\n",
    "get_sel_date = lambda x: s2_mos_col.filter(ee.Filter.eq('Date', x)).first()\n",
    "s2_mos_col_best = date_format.map(get_sel_date)"
   ]
  },
  {
   "cell_type": "code",
   "execution_count": null,
   "metadata": {},
   "outputs": [],
   "source": [
    "# get mean sun viewing angle (mean_solar_zenit_angle) for 6S correction \n",
    "raw_dates = s2_col_list.map(lambda x:ee.Image(x).get('system:time_start')).map(lambda x:ee.Date(x).format('yyyy-MM-dd')).getInfo()\n",
    "sun_ele = s2_col.aggregate_array('MEAN_SOLAR_ZENITH_ANGLE').getInfo()\n",
    "data = np.array( [raw_dates,sun_ele] )\n",
    "\n",
    "sun_data_df = pd.DataFrame(data).T\n",
    "sun_data_df.columns = ['Date','MEAN_SOLAR_ZENITH_ANGLE']\n",
    "sun_data_df['Date'] = pd.to_datetime(sun_data_df['Date'])\n",
    "sun_data_df['MEAN_SOLAR_ZENITH_ANGLE'] = sun_data_df['MEAN_SOLAR_ZENITH_ANGLE'].astype(float)\n",
    "sun_data_agg = sun_data_df.groupby(['Date'],as_index=False).mean()\n",
    "\n",
    "sun_data_agg = sun_data_agg[sun_data_agg['Date'].isin(date_format.getInfo()) ].reset_index(drop=True)\n",
    "sun_data_agg.to_csv('./data/sun_data.csv')"
   ]
  },
  {
   "cell_type": "markdown",
   "metadata": {},
   "source": [
    "#### Perform 6S atmospheric correction\n",
    "\n",
    "Reflected sunlight can be described as follows (wavelength dependence is implied):\n",
    "\n",
    "$ L = \\tau\\rho(E_{dir} + E_{dif})/\\pi + L_p$\n",
    "\n",
    "where L is at-sensor radiance, $\\tau$ is transmissivity, $\\rho$ is surface reflectance, $E_{dir}$ is direct solar irradiance, $E_{dif}$ is diffuse solar irradiance and $L_p$ is path radiance. There are five unknowns in this equation, 4 atmospheric terms ($\\tau$, $E_{dir}$, $E_{dif}$ and $L_p$) and surface reflectance. The 6S radiative transfer code is used to solve for the atmospheric terms, allowing us to solve for surface reflectance.\n",
    "\n",
    "$ \\rho = \\pi(L - L_p) / \\tau(E_{dir} + E_{dif}) $\n",
    "\n",
    "Cite: Sam Murphy (Jan 25, 2018)  \n",
    "Source : https://github.com/samsammurphy/gee-atmcorr-S2/blob/master/jupyer_notebooks/sentinel2_atmospheric_correction.ipynb"
   ]
  },
  {
   "cell_type": "code",
   "execution_count": null,
   "metadata": {
    "scrolled": true
   },
   "outputs": [],
   "source": [
    "#helper functions\n",
    "\n",
    "def spectralResponseFunction(bandname):\n",
    "    \"\"\"\n",
    "    Extract spectral response function for given band name\n",
    "    \"\"\"\n",
    "\n",
    "    bandSelect = {\n",
    "        'B1':PredefinedWavelengths.S2A_MSI_01,\n",
    "        'B2':PredefinedWavelengths.S2A_MSI_02,\n",
    "        'B3':PredefinedWavelengths.S2A_MSI_03,\n",
    "        'B4':PredefinedWavelengths.S2A_MSI_04,\n",
    "        'B5':PredefinedWavelengths.S2A_MSI_05,\n",
    "        'B6':PredefinedWavelengths.S2A_MSI_06,\n",
    "        'B7':PredefinedWavelengths.S2A_MSI_07,\n",
    "        'B8':PredefinedWavelengths.S2A_MSI_08,\n",
    "        'B8A':PredefinedWavelengths.S2A_MSI_8A,\n",
    "        'B9':PredefinedWavelengths.S2A_MSI_09,\n",
    "        'B10':PredefinedWavelengths.S2A_MSI_10,\n",
    "        'B11':PredefinedWavelengths.S2A_MSI_11,\n",
    "        'B12':PredefinedWavelengths.S2A_MSI_12,\n",
    "        }\n",
    "    \n",
    "    return Wavelength(bandSelect[bandname])\n",
    "\n",
    "def toa_to_rad(bandname):\n",
    "    \"\"\"\n",
    "    Converts top of atmosphere reflectance to at-sensor radiance\n",
    "    \"\"\"\n",
    "    \n",
    "    # solar exoatmospheric spectral irradiance\n",
    "    ESUN = info['SOLAR_IRRADIANCE_'+bandname]\n",
    "    solar_angle_correction = math.cos(math.radians(solar_z))\n",
    "    \n",
    "    # Earth-Sun distance (from day of year)\n",
    "    doy = scene_date.timetuple().tm_yday\n",
    "    d = 1 - 0.01672 * math.cos(0.9856 * (doy-4))# http://physics.stackexchange.com/questions/177949/earth-sun-distance-on-a-given-day-of-the-year\n",
    "   \n",
    "    # conversion factor\n",
    "    multiplier = ESUN*solar_angle_correction/(math.pi*d**2)\n",
    "\n",
    "    # at-sensor radiance\n",
    "    rad = toa.select(bandname).multiply(multiplier)\n",
    "    \n",
    "    return rad\n",
    "\n",
    "def surface_reflectance(bandname):\n",
    "    \"\"\"\n",
    "    Calculate surface reflectance from at-sensor radiance given waveband name\n",
    "    \"\"\"\n",
    "    \n",
    "    # run 6S for this waveband\n",
    "    s.wavelength = spectralResponseFunction(bandname)\n",
    "    s.run()\n",
    "    \n",
    "    # extract 6S outputs\n",
    "    Edir = s.outputs.direct_solar_irradiance             #direct solar irradiance\n",
    "    Edif = s.outputs.diffuse_solar_irradiance            #diffuse solar irradiance\n",
    "    Lp   = s.outputs.atmospheric_intrinsic_radiance      #path radiance\n",
    "    absorb  = s.outputs.trans['global_gas'].upward       #absorption transmissivity\n",
    "    scatter = s.outputs.trans['total_scattering'].upward #scattering transmissivity\n",
    "    tau2 = absorb*scatter                                #total transmissivity\n",
    "    \n",
    "    # radiance to surface reflectance\n",
    "    rad = toa_to_rad(bandname)\n",
    "    ref = rad.subtract(Lp).multiply(math.pi).divide(tau2*(Edir+Edif))\n",
    "    \n",
    "    return ref"
   ]
  },
  {
   "cell_type": "code",
   "execution_count": null,
   "metadata": {},
   "outputs": [],
   "source": [
    "#precompute atmospheric constituents for study area and each scene\n",
    "#water vapour GEE data source: NCEP/NCAR Reanalysis Data, Water vapor ('NCEP_RE/surface_wv')\n",
    "#ozone GEE data source: TOMS and OMI Merged Ozone Data ('TOMS/MERGED')\n",
    "#aerosol GEE data source: MOD08_M3.006 Terra Atmosphere Monthly Global Product ('MODIS/006/MOD08_M3')\n",
    "\n",
    "#open sun data\n",
    "sun_data_df = pd.read_csv('./data/sun_data.csv', index_col=0)\n",
    "dates = ee.List(sun_data_df['Date'].to_list())\n",
    "point = ee.Geometry.Point(-27.93186,32.48897)\n",
    "\n",
    "#get water vapour, ozone and aerosol optical thickness \n",
    "sun_data_df['h2o'] = dates.map(lambda x: Atmospheric.water(point,ee.Date(x))).getInfo()\n",
    "sun_data_df['o3'] = dates.map(lambda x: Atmospheric.ozone(point,ee.Date(x))).getInfo()\n",
    "sun_data_df['aot'] = dates.map(lambda x: Atmospheric.aerosol(point,ee.Date(x))).getInfo()\n",
    "\n",
    "sun_data_df.to_csv('./data/sun_data.csv')\n"
   ]
  },
  {
   "cell_type": "code",
   "execution_count": null,
   "metadata": {},
   "outputs": [],
   "source": [
    "#compute surface reflectance\n",
    "band_names = ['B2','B3','B4','B5','B6','B7','B8','B8A','B10','B11','B12']\n",
    "\n",
    "#get study area elevation (mean) in km\n",
    "srtm_30m = ee.Image(\"USGS/SRTMGL1_003\")\n",
    "km = srtm_30m.reduceRegion(reducer = ee.Reducer.mean(),geometry =geom).get('elevation').getInfo()/1000\n",
    "\n",
    "#open sun and atmospheric data\n",
    "sun_data_df = pd.read_csv('./data/sun_data.csv', index_col=0)\n",
    "sun_data_df['Date'] = pd.to_datetime(sun_data_df['Date'])\n"
   ]
  },
  {
   "cell_type": "code",
   "execution_count": null,
   "metadata": {},
   "outputs": [],
   "source": [
    "s2_toa_col = ee.ImageCollection(s2_mos_col_best)\n",
    "\n",
    "#6S object\n",
    "s = SixS()\n",
    "\n",
    "# Earth-Sun-satellite geometry constant\n",
    "s.geometry = Geometry.User()\n",
    "s.geometry.view_z = 0                      # nadir\n",
    "s.altitudes.set_sensor_satellite_level()\n",
    "s.altitudes.set_target_custom_altitude(km)\n",
    "    \n",
    "for i in range(len(sun_data_df[:1])):\n",
    "    sun_data_df['Date'] = pd.to_datetime(sun_data_df['Date'])\n",
    "    date = sun_data_df.loc[i,'Date']\n",
    "    h2o,o3,aot = sun_data_df.loc[i,['h2o','o3','aot']]\n",
    "    \n",
    "    #specifiy atmospheric constiutents \n",
    "    s.atmos_profile = AtmosProfile.UserWaterAndOzone(h2o,o3)\n",
    "    s.aero_profile = AeroProfile.Continental\n",
    "    s.aot550 = aot\n",
    "\n",
    "    # Earth-Sun-satellite geometry variable\n",
    "    s.geometry.solar_z = solar_z               # solar zenith angle\n",
    "    s.geometry.month = date.month              # month and day used for Earth-Sun distance\n",
    "    s.geometry.day = date.day                  # month and day used for Earth-Sun distance\n",
    "    \n",
    "    #get TOA (scaled to 0-1)\n",
    "    toa = s2_toa_col.filter(ee.Filter.eq('Date',str(date.date()))).first().divide(10000)\n",
    "    \n",
    "    #compute SR for each band\n",
    "    base_img = []\n",
    "    for b in band_names:\n",
    "        b_sr = surface_reflectance(b).multiply(10000).toUint16()\n",
    "        base_img.append(b_sr)\n",
    "    base_img = ee.Image(base_img).set({'Date':str(date.date())})"
   ]
  },
  {
   "cell_type": "code",
   "execution_count": null,
   "metadata": {},
   "outputs": [],
   "source": [
    "plot_rgb(base_img ,'ref_int16')"
   ]
  },
  {
   "cell_type": "code",
   "execution_count": null,
   "metadata": {
    "scrolled": true
   },
   "outputs": [],
   "source": [
    "# export all bands stack to one geotiff\n",
    "geemap.ee_export_image(base_img, filename='test.tif', scale=90, region=geom, file_per_band=False)"
   ]
  },
  {
   "cell_type": "code",
   "execution_count": null,
   "metadata": {},
   "outputs": [],
   "source": []
  }
 ],
 "metadata": {
  "kernelspec": {
   "display_name": "Python 3",
   "language": "python",
   "name": "python3"
  },
  "language_info": {
   "codemirror_mode": {
    "name": "ipython",
    "version": 3
   },
   "file_extension": ".py",
   "mimetype": "text/x-python",
   "name": "python",
   "nbconvert_exporter": "python",
   "pygments_lexer": "ipython3",
   "version": "3.8.2"
  }
 },
 "nbformat": 4,
 "nbformat_minor": 4
}
