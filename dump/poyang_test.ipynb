{
 "cells": [
  {
   "cell_type": "code",
   "execution_count": null,
   "metadata": {},
   "outputs": [],
   "source": [
    "import geemap\n",
    "import json\n",
    "import os\n",
    "import requests\n",
    "import re\n",
    "from geemap import geojson_to_ee, ee_to_geojson\n",
    "from ipyleaflet import GeoJSON\n",
    "import pandas as pd\n",
    "import ee\n",
    "import numpy as np\n",
    "from glob import glob\n",
    "\n",
    "from IPython.core.display import display, HTML\n",
    "display(HTML(\"<style>.container { width:100% !important; }</style>\"))\n",
    "\n",
    "#initialize GEE using your Google Account\n",
    "try:\n",
    "    ee.Initialize()\n",
    "except Exception as e:\n",
    "    ee.Authenticate()\n",
    "    ee.Initialize()\n",
    "    "
   ]
  },
  {
   "cell_type": "code",
   "execution_count": null,
   "metadata": {},
   "outputs": [],
   "source": []
  },
  {
   "cell_type": "code",
   "execution_count": null,
   "metadata": {},
   "outputs": [],
   "source": [
    "poyang_point = [29.182232, 116.298122]\n",
    "Map = geemap.Map(center=poyang_point ,zoom=9)\n",
    "\n",
    "#poyang test site\n",
    "file_path = './data/boundaries/poyang.geojson'\n",
    "with open(file_path) as f:\n",
    "    json_data = json.load(f)\n",
    "    ee_data = geojson_to_ee(json_data)\n",
    "    poly_line = ee.Geometry.LineString(ee_data.geometry().coordinates().get(0))\n",
    "Map.addLayer(ee_object=poly_line ,vis_params={'color':'red'}, name=\"Poyang\")\n",
    "Map"
   ]
  },
  {
   "cell_type": "code",
   "execution_count": null,
   "metadata": {
    "scrolled": true
   },
   "outputs": [],
   "source": [
    "cl_pct = 60\n",
    "\n",
    "poyang_geom = ee.Geometry.Point(poyang_point[::-1])\n",
    "\n",
    "l8_col = ee.ImageCollection(\"LANDSAT/LC08/C01/T1_SR\") \\\n",
    "    .filterBounds(poyang_geom).filterDate('2015-01-01', '2015-12-31') \\\n",
    "    .filter(ee.Filter.lte('CLOUD_COVER', cl_pct))\n",
    "\n",
    "l8_col_list = l8_col.toList(l8_col.size())\n",
    "print('Nr. images found: ', l8_col_list.size().getInfo())\n"
   ]
  },
  {
   "cell_type": "code",
   "execution_count": null,
   "metadata": {},
   "outputs": [],
   "source": []
  },
  {
   "cell_type": "code",
   "execution_count": null,
   "metadata": {},
   "outputs": [],
   "source": [
    "def plot_rgb(img,text):\n",
    "    viz_rgb = {'bands': ['B4', 'B3', 'B2'],'gain': [0.1, 0.1, 0.1],'scale':90}\n",
    "    Map.addLayer(img, viz_rgb, text+' RGB')\n",
    "    \n",
    "def plot_false(img,text):\n",
    "    viz_rgb = {'bands': ['B6', 'B5', 'B2'],'gain': [0.1, 0.1, 0.1],'scale':90}\n",
    "    Map.addLayer(img, viz_rgb, text+' False')\n",
    "    \n",
    "img = ee.Image(l8_col_list.get(7))\n",
    "plot_rgb(img,img.getInfo()['id'])\n",
    "plot_false(img,img.getInfo()['id'])\n"
   ]
  },
  {
   "cell_type": "code",
   "execution_count": null,
   "metadata": {},
   "outputs": [],
   "source": [
    "def add_wiw(img):\n",
    "    wiw = img.expression(\n",
    "        '((B8A/10000) <= 0.1804) && ((B12/10000) <= 0.1131)',{'B8A':img.select('B8A'),'B12':img.select('B12')}\n",
    "    ).rename('RWS')\n",
    "    return img.addBands(wiw)\n",
    "\n",
    "def add_rws(img):\n",
    "    mndwi = img.normalizedDifference(['B3','B6']).rename('MNDWI')\n",
    "    mgrn = img.select(['B3','B4','B5']).subtract(10000).reduce(ee.Reducer.min()).rename('MGRN')\n",
    "    rws = img.expression(\n",
    "        '(MNDWI > 0.3) && (MGRN < 0.15)',{'MNDWI':mndwi,'MGRN':mgrn}\n",
    "    ).rename('RWS')\n",
    "    return img.addBands(rws)\n",
    "\n",
    "def apply_rws(img):\n",
    "    mask = img.select('RWS').eq(1)\n",
    "    masked_img = img.updateMask(mask)\n",
    "    return masked_img\n",
    "\n",
    "\n",
    "def get_labels(img):\n",
    "    cluster =  img.select('cluster')\n",
    "    cluster_vector = cluster.reduceToVectors(reducer = ee.Reducer.countEvery(),geometry=img.geometry(),bestEffort=True)\n",
    "    labels = ee.List(cluster_vector.aggregate_array('label')).distinct().sort()\n",
    "    return labels\n",
    "\n",
    "\n",
    "def add_kmeans(img):\n",
    "    \n",
    "    rws_region = img.select('RWS') \\\n",
    "        .reduceToVectors(reducer = ee.Reducer.countEvery(),scale=900,bestEffort=True,geometryType='polygon') \\\n",
    "        .filter(ee.Filter.eq(\"label\", 1)).union(1)\n",
    "    \n",
    "    rgb = img.select(['B4', 'B3', 'B2'])\n",
    "    train_samples = rgb.sample(scale=30,region=rws_region,numPixels=3000,seed=42)\n",
    "    k_means = ee.Clusterer.wekaKMeans(8).train(train_samples)\n",
    "    img_cluster = rgb.cluster(k_means)\n",
    "\n",
    "    rws_mask = img.select('RWS').eq(1)\n",
    "    img_cluster_masked = img_cluster.updateMask(rws_mask).rename('cluster')\n",
    "    \n",
    "    return img.addBands(img_cluster_masked)\n",
    "\n",
    "def plot_mask(data,layer_name):\n",
    "    img = data.select(layer_name)\n",
    "    img_mask = img.updateMask(img.eq(1))\n",
    "    Map.addLayer(img_mask, {'palette': 'red'}, f'{layer_name}')"
   ]
  },
  {
   "cell_type": "code",
   "execution_count": null,
   "metadata": {},
   "outputs": [],
   "source": [
    "def add_mnws(img):\n",
    "    img_cluster = img.select('cluster')\n",
    "    labels = list(range(0,8))\n",
    "\n",
    "    nws_list = []\n",
    "    \n",
    "    for label in labels:\n",
    "        cluster_region = img_cluster.eq(ee.Number(label))\n",
    "        \n",
    "        scores = []\n",
    "        band_names = ['B7','B6','B5','B4','B3','B2']\n",
    "        \n",
    "        score_sum = None\n",
    "        for band in band_names:\n",
    "            \n",
    "            img_band_raw = img.select(band)\n",
    "            \n",
    "            img_band = img.select(band).updateMask(cluster_region)\n",
    "            reducers = ee.Reducer.mean().combine(reducer2 = ee.Reducer.stdDev(),sharedInputs= True)\n",
    "            img_stats = img_band.reduceRegion(reducer= reducers,bestEffort= True)\n",
    "            img_band_mu = ee.Number(img_stats.get(f'{band}_mean'))\n",
    "            img_band_std = ee.Number(img_stats.get(f'{band}_stdDev'))\n",
    "            img_band_score = img_band_raw.subtract(img_band_mu).divide(img_band_std).pow(2).rename(f'{label} {band}')\n",
    "            scores.append(img_band_score)\n",
    "            \n",
    "        nws = ee.Image.cat(scores).reduce('sum').divide(ee.Number(len(band_names))).sqrt().rename('NWS')\n",
    "        nws_list.append(nws)\n",
    "        \n",
    "    mnws = ee.Image.cat(nws_list).reduce('min').rename('MNWS')\n",
    "\n",
    "    return img.addBands(mnws)\n",
    "\n",
    "def get_wd(img):\n",
    "    img_mnws = img.select('MNWS')\n",
    "    wd_i = img.expression('MNWS < 3',{'MNWS':img_mnws})\n",
    "    return wd_i"
   ]
  },
  {
   "cell_type": "code",
   "execution_count": null,
   "metadata": {},
   "outputs": [],
   "source": [
    "# Map.addLayer(mnws_img, {'palette':['F94144','F3722C','F8961E','F9C74F','90BE6D','43AA8B','577590'],'min':0,'max':10})"
   ]
  },
  {
   "cell_type": "code",
   "execution_count": null,
   "metadata": {},
   "outputs": [],
   "source": [
    "mnws_ts = l8_col.map(add_rws).map(add_kmeans).map(add_mnws)\n",
    "img_wf = mnws_ts.map(get_wd).reduce('sum').divide(10)"
   ]
  },
  {
   "cell_type": "code",
   "execution_count": null,
   "metadata": {},
   "outputs": [],
   "source": [
    "Map.addLayer(img_wf, {'palette':['white', '0000FF'],'min':0.1,'max':1})"
   ]
  },
  {
   "cell_type": "code",
   "execution_count": null,
   "metadata": {},
   "outputs": [],
   "source": [
    "#export all bands stack to one geotiff\n",
    "geemap.ee_export_image(img_wf, filename='wf.tif', scale=90, region=poly_line, file_per_band=False)\n",
    "remove_zips = list(map(lambda x:os.remove(x),glob('*.zip')))"
   ]
  },
  {
   "cell_type": "code",
   "execution_count": null,
   "metadata": {},
   "outputs": [],
   "source": []
  },
  {
   "cell_type": "code",
   "execution_count": null,
   "metadata": {},
   "outputs": [],
   "source": []
  },
  {
   "cell_type": "code",
   "execution_count": null,
   "metadata": {},
   "outputs": [],
   "source": []
  },
  {
   "cell_type": "code",
   "execution_count": null,
   "metadata": {},
   "outputs": [],
   "source": []
  }
 ],
 "metadata": {
  "kernelspec": {
   "display_name": "Python 3",
   "language": "python",
   "name": "python3"
  },
  "language_info": {
   "codemirror_mode": {
    "name": "ipython",
    "version": 3
   },
   "file_extension": ".py",
   "mimetype": "text/x-python",
   "name": "python",
   "nbconvert_exporter": "python",
   "pygments_lexer": "ipython3",
   "version": "3.8.2"
  }
 },
 "nbformat": 4,
 "nbformat_minor": 4
}
