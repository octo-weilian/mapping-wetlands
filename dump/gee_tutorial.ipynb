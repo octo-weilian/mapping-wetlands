{
 "cells": [
  {
   "cell_type": "code",
   "execution_count": null,
   "metadata": {},
   "outputs": [],
   "source": [
    "import geemap.eefolium as emap\n",
    "import ee"
   ]
  },
  {
   "cell_type": "code",
   "execution_count": null,
   "metadata": {},
   "outputs": [],
   "source": [
    "#initialize GEE in Jupyter Notebook session\n",
    "ee.Authenticate()\n",
    "ee.Initialize()"
   ]
  },
  {
   "cell_type": "code",
   "execution_count": null,
   "metadata": {},
   "outputs": [],
   "source": [
    "#map object\n",
    "Map = emap.Map()\n",
    "\n",
    "#get data and add layers to map\n",
    "image = ee.Image('LANDSAT/LC08/C01/T1/LC08_044034_20140318')\n",
    "\n",
    "#add image to map\n",
    "Map.centerObject(image, 8)\n",
    "vizParams = {'bands': ['B5', 'B4', 'B3'],'min': 5000, 'max': 15000, 'gamma': 1.3}\n",
    "Map.addLayer(image, vizParams, 'Landsat 8 original image')\n",
    "\n",
    "#add other layer to map\n",
    "counties = ee.FeatureCollection('TIGER/2016/Counties')\n",
    "Map.addLayer(ee.Image().paint(counties, 0, 2), {}, 'counties')\n",
    "\n",
    "#display data\n",
    "Map.addLayerControl()\n",
    "Map"
   ]
  },
  {
   "cell_type": "code",
   "execution_count": null,
   "metadata": {},
   "outputs": [],
   "source": [
    "def addNDVI(image):\n",
    "    return image.addBands(image.normalizedDifference(['B5', 'B4']))\n",
    "\n",
    "def cloudMask(image):\n",
    "    clouds = ee.Algorithms.Landsat.simpleCloudScore(image).select(['cloud'])\n",
    "    return image.updateMask(clouds.lt(10))\n",
    "\n",
    "# Load a Landsat collection, map the NDVI and cloud masking functions over it.\n",
    "collection = ee.ImageCollection('LANDSAT/LC08/C01/T1_TOA') \\\n",
    "    .filterBounds(ee.Geometry.Point([-122.262, 37.8719])) \\\n",
    "    .filterDate('2014-03-01', '2014-05-31') \\\n",
    "    .map(addNDVI) \\\n",
    "    .map(cloudMask)\n",
    "\n",
    "centroid = collection.first().geometry().centroid().getInfo()['coordinates']\n",
    "\n",
    "Map = emap.Map(center=centroid, zoom=7)\n",
    "\n",
    "# Reduce the collection to the mean of each pixel and display.\n",
    "meanImage = collection.reduce(ee.Reducer.mean())\n",
    "vizParams = {'bands': ['B5_mean', 'B4_mean', 'B3_mean'], 'min': 0, 'max': 0.5}\n",
    "Map.setCenter(-122.262, 37.8719, 10)\n",
    "Map.addLayer(meanImage, vizParams, 'mean')\n",
    "\n",
    "# Load a region in which to compute the mean and display it.\n",
    "counties = ee.FeatureCollection('TIGER/2016/Counties')\n",
    "santaClara = ee.Feature(counties.filter(\n",
    "    ee.Filter.eq('NAME', 'Santa Clara')).first())\n",
    "Map.addLayer(ee.Image().paint(santaClara, 0, 2), {\n",
    "             'palette': 'yellow'}, 'Santa Clara')\n",
    "\n",
    "# Get the mean of NDVI in the region.\n",
    "mean = meanImage.select(['nd_mean']).reduceRegion(**{\n",
    "    'reducer': ee.Reducer.mean(),\n",
    "    'geometry': santaClara.geometry(),\n",
    "    'scale': 30\n",
    "})\n",
    "\n",
    "Map.addLayer(meanImage.clip(santaClara.geometry()), vizParams, 'mean2')\n",
    "\n",
    "\n",
    "# # Print mean NDVI for the region.\n",
    "# print('Santa Clara spring mean NDVI:', mean.get('nd_mean').getInfo())"
   ]
  },
  {
   "cell_type": "code",
   "execution_count": null,
   "metadata": {},
   "outputs": [],
   "source": [
    "#display data\n",
    "Map.addLayerControl()\n",
    "Map"
   ]
  },
  {
   "cell_type": "code",
   "execution_count": null,
   "metadata": {},
   "outputs": [],
   "source": [
    "Map = emap.Map(center=[40,-100], zoom=4)\n",
    "\n",
    "# Add Earth Engine dataset\n",
    "# Input imagery is a cloud-free Landsat 8 composite.\n",
    "l8 = ee.ImageCollection('LANDSAT/LC08/C01/T1')\n",
    "\n",
    "image = ee.Algorithms.Landsat.simpleComposite(**{\n",
    "  'collection': l8.filterDate('2018-01-01', '2018-12-31'),\n",
    "  'asFloat': True\n",
    "})\n",
    "\n",
    "# Use these bands for prediction.\n",
    "bands = ['B2', 'B3', 'B4', 'B5', 'B6', 'B7', 'B10', 'B11']\n",
    "\n",
    "# Load training points. The numeric property 'class' stores known labels.\n",
    "points = ee.FeatureCollection('GOOGLE/EE/DEMOS/demo_landcover_labels')\n",
    "\n",
    "# This property of the table stores the land cover labels.\n",
    "label = 'landcover'\n",
    "\n",
    "# Overlay the points on the imagery to get training.\n",
    "training = image.select(bands).sampleRegions(**{\n",
    "  'collection': points,\n",
    "  'properties': [label],\n",
    "  'scale': 30\n",
    "})\n",
    "\n",
    "# Train a CART classifier with default parameters.\n",
    "trained = ee.Classifier.cart().train(training, label, bands)\n",
    "\n",
    "# Classify the image with the same bands used for training.\n",
    "classified = image.select(bands).classify(trained)\n",
    "\n",
    "# Display the inputs and the results.\n",
    "Map.centerObject(points, 11)\n",
    "Map.addLayer(image, {'bands': ['B4', 'B3', 'B2'], 'max': 0.4}, 'image')\n",
    "Map.addLayer(classified,\n",
    "             {'min': 0, 'max': 2, 'palette': ['red', 'green', 'blue']},\n",
    "             'classification')"
   ]
  },
  {
   "cell_type": "code",
   "execution_count": null,
   "metadata": {},
   "outputs": [],
   "source": [
    "Map.addLayerControl() # This line is not needed for ipyleaflet-based Map.\n",
    "Map"
   ]
  },
  {
   "cell_type": "code",
   "execution_count": null,
   "metadata": {},
   "outputs": [],
   "source": []
  },
  {
   "cell_type": "code",
   "execution_count": null,
   "metadata": {},
   "outputs": [],
   "source": []
  },
  {
   "cell_type": "code",
   "execution_count": null,
   "metadata": {},
   "outputs": [],
   "source": []
  }
 ],
 "metadata": {
  "kernelspec": {
   "display_name": "Python 3",
   "language": "python",
   "name": "python3"
  },
  "language_info": {
   "codemirror_mode": {
    "name": "ipython",
    "version": 3
   },
   "file_extension": ".py",
   "mimetype": "text/x-python",
   "name": "python",
   "nbconvert_exporter": "python",
   "pygments_lexer": "ipython3",
   "version": "3.8.2"
  }
 },
 "nbformat": 4,
 "nbformat_minor": 4
}
