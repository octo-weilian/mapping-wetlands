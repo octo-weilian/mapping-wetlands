{
 "cells": [
  {
   "cell_type": "code",
   "execution_count": 1,
   "metadata": {},
   "outputs": [
    {
     "data": {
      "text/html": [
       "<style>.container { width:100% !important; }</style>"
      ],
      "text/plain": [
       "<IPython.core.display.HTML object>"
      ]
     },
     "metadata": {},
     "output_type": "display_data"
    }
   ],
   "source": [
    "import geemap\n",
    "import json\n",
    "import os\n",
    "import requests\n",
    "import re\n",
    "from geemap import geojson_to_ee, ee_to_geojson\n",
    "from ipyleaflet import GeoJSON\n",
    "import pandas as pd\n",
    "import ee\n",
    "import numpy as np\n",
    "from glob import glob\n",
    "import time\n",
    "\n",
    "from IPython.core.display import display, HTML\n",
    "display(HTML(\"<style>.container { width:100% !important; }</style>\"))\n",
    "\n",
    "#initialize GEE using your Google Account\n",
    "try:\n",
    "    ee.Initialize()\n",
    "except Exception as e:\n",
    "    ee.Authenticate()\n",
    "    ee.Initialize()\n",
    "    \n",
    "    "
   ]
  },
  {
   "cell_type": "code",
   "execution_count": 2,
   "metadata": {},
   "outputs": [
    {
     "data": {
      "application/vnd.jupyter.widget-view+json": {
       "model_id": "2882c40e77eb49439fab6c004a70bc79",
       "version_major": 2,
       "version_minor": 0
      },
      "text/plain": [
       "Map(center=[-27.93186, 32.48897], controls=(ZoomControl(options=['position', 'zoom_in_text', 'zoom_in_title', …"
      ]
     },
     "metadata": {},
     "output_type": "display_data"
    }
   ],
   "source": [
    "#set up GEE map canvas (will be updated with every addLayer() method)\n",
    "Map = geemap.Map(center=[-27.93186,32.48897],zoom=9)\n",
    "# Map.add_basemap('SATELLITE')\n",
    "Map.add_basemap('CartoDB.DarkMatter')\n",
    "\n",
    "#study area\n",
    "file_path = './data/boundaries/ramsar_stlucia.geojson'\n",
    "with open(file_path) as f:\n",
    "    coord = json.load(f)['features'][0]['geometry']['coordinates'][0][0]\n",
    "    line_geom = ee.Geometry.LineString(coord)\n",
    "    \n",
    "    #polygon used for clipping purposes\n",
    "    poly_geom = ee.Geometry.Polygon(coord)\n",
    "    \n",
    "Map.addLayer(ee_object=line_geom, vis_params={'color':'red'}, name=\"Lesser Isimangaliso Wetland Park\")\n",
    "Map\n",
    "    \n"
   ]
  },
  {
   "cell_type": "code",
   "execution_count": 66,
   "metadata": {},
   "outputs": [],
   "source": [
    "def get_meta_s2(data_info):\n",
    "    prod_id = data_info['properties']['PRODUCT_ID']\n",
    "    date = pd.to_datetime(re.findall(r\"(\\d{8})T\", prod_id)[0]).date()\n",
    "    cl_cover = round(data_info['properties']['CLOUD_COVERAGE_ASSESSMENT'],2)\n",
    "    tile = re.findall(r\"(\\d{2}[A-Z]{3})\", prod_id)[0]\n",
    "    df = pd.DataFrame({'id':prod_id,'date':date,'tile':tile,'cloudcover':cl_cover},index=[0])\n",
    "    return df\n",
    "\n",
    "def filter_duplicates (s2_col_list):\n",
    "    s2_filtered = []\n",
    "    for i in range(s2_col.size().getInfo()):\n",
    "        prod_id =  s2_col_list.get(i).getInfo()['properties']['PRODUCT_ID']\n",
    "        if 'OPER_PRD' not in prod_id:\n",
    "            s2_filtered += [ee.Image(s2_col_list.get(i))]\n",
    "    s2_filtered_col = ee.ImageCollection(s2_filtered)\n",
    "    s2_filtered_list = s2_filtered_col.toList(s2_filtered_col.size())\n",
    "    return s2_filtered_list\n",
    "\n",
    "def add_wiw(img):\n",
    "    wiw = img.expression(\n",
    "        '((B8A/10000) <= 0.1804) && ((B12/10000) <= 0.1131)',{'B8A':img.select('B8A'),'B12':img.select('B12')}\n",
    "    ).rename('RWS')\n",
    "    return img.addBands(wiw)\n",
    "\n",
    "def add_rws(img):\n",
    "    mndwi = img.normalizedDifference(['B3','B11']).rename('MNDWI')\n",
    "    mgrn = img.select(['B3','B4','B5']).divide(10000).reduce(ee.Reducer.min()).rename('MGRN')\n",
    "    rws = img.expression(\n",
    "        '(MNDWI > 0.3) && (MGRN < 0.15)',{'MNDWI':mndwi,'MGRN':mgrn}\n",
    "    ).rename('RWS')\n",
    "    return img.addBands(rws)\n",
    "\n",
    "def apply_rws(img):\n",
    "    mask = img.select('RWS').eq(1)\n",
    "    masked_img = img.updateMask(mask)\n",
    "    return masked_img\n",
    "\n",
    "def get_labels(img):\n",
    "    cluster =  img.select('cluster')\n",
    "    cluster_vector = cluster.reduceToVectors(reducer = ee.Reducer.countEvery(),geometry=img.geometry(),bestEffort=True)\n",
    "    labels = ee.List(cluster_vector.aggregate_array('label')).distinct().sort()\n",
    "    return labels\n",
    "\n",
    "def add_kmeans(img):\n",
    "\n",
    "    rws_mask = img.select('RWS').eq(1)\n",
    "    rgb_img = img.select(['B4', 'B3', 'B2']).updateMask(rws_mask)\n",
    "    \n",
    "    train_samples = rgb_img.sample(scale=10,numPixels=2000,seed=42,tileScale=4,dropNulls=True)\n",
    "    k_means = ee.Clusterer.wekaKMeans(8).train(train_samples)\n",
    "    img_cluster = rgb_img.cluster(k_means).rename('cluster')\n",
    "    return img.addBands(img_cluster)\n",
    "\n",
    "def plot_mask(data,layer_name):\n",
    "    img = data.select(layer_name)\n",
    "    img_mask = img.updateMask(img.eq(1))\n",
    "    Map.addLayer(img_mask, {'palette': 'red'}, f'{layer_name}')\n",
    "    \n",
    "def plot_rgb(img,text):\n",
    "    viz_rgb = {'bands': ['B4', 'B3', 'B2'],'gain': [0.1, 0.1, 0.1],'scale':90}\n",
    "    Map.addLayer(img, viz_rgb, text+' RGB')\n",
    "    \n",
    "def plot_false(img,text):\n",
    "    viz_rgb = {'bands': ['B6', 'B5', 'B2'],'gain': [0.1, 0.1, 0.1],'scale':90}\n",
    "    Map.addLayer(img, viz_rgb, text+' False')\n",
    "    \n",
    "def get_dates(data):\n",
    "    date= ee.Image(data).get('GENERATION_TIME')\n",
    "    return date\n",
    "\n",
    "def add_mnws(img):\n",
    "\n",
    "    band_names = ['B2','B3','B4','B5','B6','B7','B8','B8A','B11','B12']\n",
    "    multiband_img = img.select(band_names)\n",
    "    cluster_img = img.select('cluster')\n",
    "\n",
    "    samples = multiband_img.addBands(cluster_img).stratifiedSample(numPoints=100,classBand='cluster',scale=10,tileScale=4,seed=42,dropNulls=True)\n",
    "\n",
    "    nws_list = []\n",
    "    for label in list(range(0,8)):\n",
    "\n",
    "        scores = []\n",
    "\n",
    "        for band in band_names:\n",
    "            img_band_mu = samples.filter(ee.Filter.eq('cluster',label)).aggregate_mean(band)\n",
    "            img_band_std = samples.filter(ee.Filter.eq('cluster',label)).aggregate_total_sd(band)\n",
    "\n",
    "            img_band_raw = multiband_img.select(band)\n",
    "            img_band_score = img_band_raw.subtract(img_band_mu).divide(img_band_std).pow(2).rename(f'{label} {band}')\n",
    "            \n",
    "            scores.append(img_band_score)\n",
    "\n",
    "        nws = ee.Image.cat(scores).reduce('sum').divide(len(band_names)).sqrt().rename('NWS')\n",
    "        nws_list.append(nws)\n",
    "\n",
    "    mnws = ee.Image.cat(nws_list).reduce('min').rename('MNWS')\n",
    "    return mnws\n",
    "\n",
    "def get_wd(img):\n",
    "    img_mnws = img.select('MNWS')\n",
    "    wd_i = img.expression('MNWS < 3',{'MNWS':img_mnws})\n",
    "    return wd_i"
   ]
  },
  {
   "cell_type": "code",
   "execution_count": 4,
   "metadata": {},
   "outputs": [
    {
     "name": "stdout",
     "output_type": "stream",
     "text": [
      "Nr. images found:  210\n"
     ]
    }
   ],
   "source": [
    "#get Sentinel-2 Level-1C collection for 2016\n",
    "\n",
    "cl_pct = 100\n",
    "\n",
    "s2_col = ee.ImageCollection(\"COPERNICUS/S2\") \\\n",
    "    .filterBounds(line_geom).filterDate('2017-01-01','2017-12-31') \\\n",
    "    .filter(ee.Filter.inList('MGRS_TILE', ['36JVP','36JVQ'])) \\\n",
    "    .filter(ee.Filter.lte('CLOUDY_PIXEL_PERCENTAGE', cl_pct))\n",
    "\n",
    "# #filter duplicated products \n",
    "s2_col_list = s2_col.toList(s2_col.size())\n",
    "\n",
    "print('Nr. images found: ', s2_col.size().getInfo())\n"
   ]
  },
  {
   "cell_type": "code",
   "execution_count": 67,
   "metadata": {
    "scrolled": false
   },
   "outputs": [],
   "source": [
    "unique_dates = s2_col_list.map(get_dates).distinct()\n",
    "\n",
    "#iterave over collection and create mosaic based on similar datetime\n",
    "col = []\n",
    "d_days = \n",
    "for i in range(unique_dates.size().getInfo()):\n",
    "    unique_date = unique_dates.get(i)\n",
    "    date_day = ee.Date(unique_dates.get(i)).format('yyyy-MM-dd')\n",
    "    similar_tiles = s2_col.filter(ee.Filter.eq('system:time_end', unique_date)).mosaic().clip(poly_geom).set({'DateDay':date_day})\n",
    "    col.append(similar_tiles)\n",
    "    \n",
    "s2_mosaic_col_a = ee.ImageCollection(col)\n",
    "\n",
    "#iterate over mosaic again and merge based on similar days\n",
    "date_days = ee.List(s2_mosaic_col_a.aggregate_array('DateDay')).getInfo()\n",
    "days,count = np.unique(date_days, return_counts=True)\n",
    "dups = days[count>1]\n",
    "non_dups = np.setdiff1d(days,dup)\n",
    "\n",
    "dup_mos = ee.ImageCollection([s2_mosaic_col_a.filter(ee.Filter.eq('DateDay',dup)).mosaic().set({'DateDay':dup}) for dup in dups])\n",
    "non_dup_mos = s2_mosaic_col_a.filter(ee.Filter.inList('DateDay', ee.List(list(non_dups))))\n",
    "\n",
    "s2_mosaic_col_clean = non_dup_mos.merge(dup_mos)\n",
    "s2_mosaic_col_list = s2_mosaic_col_clean.toList(len(days))\n",
    "\n",
    "print('Nr. mosaics created: ', len(date_days),len(days))"
   ]
  },
  {
   "cell_type": "code",
   "execution_count": null,
   "metadata": {
    "scrolled": false
   },
   "outputs": [],
   "source": []
  },
  {
   "cell_type": "code",
   "execution_count": 61,
   "metadata": {
    "scrolled": true
   },
   "outputs": [],
   "source": [
    "#convert images to gif\n",
    "video_args = {\n",
    "  'dimensions': 480,\n",
    "  'region': poly_geom,\n",
    "  'framesPerSecond': 1,\n",
    "  'bands': ['B11', 'B8', 'B3'],\n",
    "  'gain': [0.08, 0.08, 0.08]\n",
    "}\n",
    "\n",
    "gif_name = '2017_cl100'\n",
    "geemap.download_ee_video(s2_mosaic_col_clean, video_args, f'{gif_name}.gif')\n",
    "geemap.add_text_to_gif(f'{gif_name}.gif', f'{gif_name}_text.gif', xy=('3%', '1%'), text_sequence=days, font_size=20, font_color='#ffffff')\n",
    "os.remove(f'{gif_name}.gif')"
   ]
  },
  {
   "cell_type": "code",
   "execution_count": null,
   "metadata": {},
   "outputs": [],
   "source": [
    "monthly_composites = []\n",
    "for month in months:\n",
    "    month_col = s2_mosaic_col.filter(ee.Filter.eq('Month', month)).median().set({'Month':month})\n",
    "    monthly_composites.append(month_col)"
   ]
  },
  {
   "cell_type": "code",
   "execution_count": null,
   "metadata": {},
   "outputs": [],
   "source": [
    "for i in range(len(monthly_composites)):\n",
    "    img = monthly_composites[i]\n",
    "    plot_rgb(img,months[i])"
   ]
  },
  {
   "cell_type": "code",
   "execution_count": null,
   "metadata": {},
   "outputs": [],
   "source": [
    "# mnws_ts = s2_mosaic_col.map(add_rws).map(add_kmeans).map(add_mnws)\n",
    "# mnws_ts_list = mnws_ts.toList(mnws_ts.size())"
   ]
  },
  {
   "cell_type": "code",
   "execution_count": null,
   "metadata": {
    "scrolled": true
   },
   "outputs": [],
   "source": [
    "months_10_col = s2_mosaic_col.filter(ee.Filter.eq('Month', '10'))\n",
    "months_10_col_list = months_10_col.toList(months_10_col.size())"
   ]
  },
  {
   "cell_type": "code",
   "execution_count": null,
   "metadata": {},
   "outputs": [],
   "source": [
    "img = ee.Image(months_10_col_list.get(-2))\n",
    "plot_rgb(img,img.get('Date').getInfo())"
   ]
  },
  {
   "cell_type": "code",
   "execution_count": null,
   "metadata": {},
   "outputs": [],
   "source": [
    "test = img.select(['B4','B3','B2'])\n",
    "Map.addLayer(canny)"
   ]
  },
  {
   "cell_type": "code",
   "execution_count": null,
   "metadata": {},
   "outputs": [],
   "source": []
  },
  {
   "cell_type": "code",
   "execution_count": null,
   "metadata": {},
   "outputs": [],
   "source": []
  },
  {
   "cell_type": "code",
   "execution_count": null,
   "metadata": {
    "scrolled": false
   },
   "outputs": [],
   "source": []
  },
  {
   "cell_type": "code",
   "execution_count": null,
   "metadata": {},
   "outputs": [],
   "source": []
  },
  {
   "cell_type": "code",
   "execution_count": null,
   "metadata": {},
   "outputs": [],
   "source": [
    "img_wf = mnws_ts.map(get_wd).reduce(reducer=ee.Reducer.sum(),parallelScale=4).divide(s2_mosaic_col.size())"
   ]
  },
  {
   "cell_type": "code",
   "execution_count": null,
   "metadata": {},
   "outputs": [],
   "source": [
    "s2_ts = s2_mosaic_col.map(add_rws).map(add_kmeans)\n",
    "s2_ts_list = s2_ts.toList(s2_ts.size())\n",
    "\n",
    "# mnws_ts_thr = []\n",
    "mnws_ts_list = []\n",
    "for i in range(s2_mosaic_col.size().getInfo()):\n",
    "    img = ee.Image(s2_ts_list.get(i))\n",
    "    mnws = add_mnws(img)\n",
    "    mnws_ts_list.append(mnws.select('MNWS'))\n",
    "#     mnws_ts_thr.append(get_wd(mnws))\n",
    "    \n",
    "# img_wf = ee.Image.cat(mnws_ts_thr).reduce('sum').divide(len(mnws_ts_thr))\n"
   ]
  },
  {
   "cell_type": "code",
   "execution_count": null,
   "metadata": {},
   "outputs": [],
   "source": [
    "Map.addLayer(img_wf, {'palette':['white', '0000FF'],'min':0.1,'max':1})"
   ]
  },
  {
   "cell_type": "code",
   "execution_count": null,
   "metadata": {},
   "outputs": [],
   "source": [
    "for i in range(len(mnws_ts_list[0:4])):\n",
    "    geemap.ee_export_image(mnws_ts_list[i], filename=f'mnws_{i}.tif', scale=90, region=poly_geom, file_per_band=False)\n",
    "remove_zips = list(map(lambda x:os.remove(x),glob('*.zip')))"
   ]
  },
  {
   "cell_type": "code",
   "execution_count": null,
   "metadata": {
    "scrolled": false
   },
   "outputs": [],
   "source": [
    "# export all bands stack to one geotiff\n",
    "geemap.ee_export_image(img.select(['B4','B3','B2']), filename='rgb.tif', scale=90, region=poly_geom, file_per_band=False)\n",
    "remove_zips = list(map(lambda x:os.remove(x),glob('*.zip')))"
   ]
  },
  {
   "cell_type": "code",
   "execution_count": null,
   "metadata": {},
   "outputs": [],
   "source": [
    "# task = ee.batch.Export.image.toDrive(ee.Image(mnws_ts_list.get(0)), \n",
    "#                                      'output',\n",
    "#                                      folder='GEE_output',\n",
    "#                                     fileNamePrefix='mnws',\n",
    "#                                     crs='EPSG:32736',\n",
    "#                                     scale=10,\n",
    "#                                     maxPixels=1e8,\n",
    "#                                     fileFormat='GeoTIFF',\n",
    "#                                     skipEmptyTiles=True,\n",
    "#                                     region=ee_to_geojson(poly_geom)['coordinates'][0])\n",
    "# task.start()"
   ]
  },
  {
   "cell_type": "code",
   "execution_count": null,
   "metadata": {},
   "outputs": [],
   "source": [
    "geemap.ee_export_image_to_drive(ee.Image(mnws_ts_list.get(0)), description='result', folder='GEE_output', region=poly_geom, scale=10)"
   ]
  },
  {
   "cell_type": "code",
   "execution_count": null,
   "metadata": {},
   "outputs": [],
   "source": []
  }
 ],
 "metadata": {
  "kernelspec": {
   "display_name": "Python 3",
   "language": "python",
   "name": "python3"
  },
  "language_info": {
   "codemirror_mode": {
    "name": "ipython",
    "version": 3
   },
   "file_extension": ".py",
   "mimetype": "text/x-python",
   "name": "python",
   "nbconvert_exporter": "python",
   "pygments_lexer": "ipython3",
   "version": "3.8.2"
  }
 },
 "nbformat": 4,
 "nbformat_minor": 4
}
