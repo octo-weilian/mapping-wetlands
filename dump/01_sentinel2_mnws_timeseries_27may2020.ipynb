{
 "cells": [
  {
   "cell_type": "code",
   "execution_count": 1,
   "metadata": {},
   "outputs": [],
   "source": [
    "import geemap\n",
    "import json\n",
    "import os\n",
    "import requests\n",
    "import re\n",
    "from geemap import geojson_to_ee, ee_to_geojson\n",
    "from ipyleaflet import GeoJSON\n",
    "import pandas as pd\n",
    "import ee\n",
    "import numpy as np\n",
    "from glob import glob\n",
    "#initialize GEE using your Google Account\n",
    "try:\n",
    "    ee.Initialize()\n",
    "except Exception as e:\n",
    "    ee.Authenticate()\n",
    "    ee.Initialize()"
   ]
  },
  {
   "cell_type": "code",
   "execution_count": 2,
   "metadata": {},
   "outputs": [
    {
     "data": {
      "application/vnd.jupyter.widget-view+json": {
       "model_id": "406b53e003664ff49de24c9386ac4ecd",
       "version_major": 2,
       "version_minor": 0
      },
      "text/plain": [
       "Map(center=[-27.93186, 32.48897], controls=(ZoomControl(options=['position', 'zoom_in_text', 'zoom_in_title', …"
      ]
     },
     "metadata": {},
     "output_type": "display_data"
    }
   ],
   "source": [
    "#set up GEE map canvas (will be updated with every addLayer() method)\n",
    "Map = geemap.Map(center=[-27.93186,32.48897],zoom=9)\n",
    "Map.add_basemap('SATELLITE')\n",
    "Map.add_basemap('CartoDB.DarkMatter')\n",
    "\n",
    "#study area\n",
    "file_path = './data/boundaries/ramsar_stlucia.geojson'\n",
    "with open(file_path) as f:\n",
    "    coord = json.load(f)['features'][0]['geometry']['coordinates'][0][0]\n",
    "    line_geom = ee.Geometry.LineString(coord)\n",
    "    \n",
    "    #polygon used for clipping purposes\n",
    "    poly_geom = ee.Geometry.Polygon(coord)\n",
    "    \n",
    "Map.addLayer(ee_object=line_geom, vis_params={'color':'red'}, name=\"Lesser Isimangaliso Wetland Park\")\n",
    "Map\n",
    "    \n"
   ]
  },
  {
   "cell_type": "code",
   "execution_count": 3,
   "metadata": {},
   "outputs": [],
   "source": [
    "def get_meta_s2(data_info):\n",
    "    prod_id = data_info['properties']['PRODUCT_ID']\n",
    "    date = pd.to_datetime(re.findall(r\"(\\d{8})T\", prod_id)[0]).date()\n",
    "    cl_cover = round(data_info['properties']['CLOUD_COVERAGE_ASSESSMENT'],2)\n",
    "    tile = re.findall(r\"(\\d{2}[A-Z]{3})\", prod_id)[0]\n",
    "    df = pd.DataFrame({'id':prod_id,'date':date,'tile':tile,'cloudcover':cl_cover},index=[0])\n",
    "    return df\n",
    "\n",
    "def filter_duplicates (s2_col_list):\n",
    "    s2_filtered = []\n",
    "    for i in range(s2_col.size().getInfo()):\n",
    "        prod_id =  s2_col_list.get(i).getInfo()['properties']['PRODUCT_ID']\n",
    "        if 'OPER_PRD' not in prod_id:\n",
    "            s2_filtered += [ee.Image(s2_col_list.get(i))]\n",
    "    s2_filtered_col = ee.ImageCollection(s2_filtered)\n",
    "    s2_filtered_list = s2_filtered_col.toList(s2_filtered_col.size())\n",
    "    return s2_filtered_list\n",
    "\n",
    "def plot_rgb(data):\n",
    "    img = ee.Image(data)\n",
    "    date = data.getInfo()['properties']['Date']\n",
    "    viz_rgb = {'bands': ['B4', 'B3', 'B2'],'gain': [0.1, 0.1, 0.1],'scale':30}\n",
    "    Map.addLayer(img, viz_rgb, f'{date} RGB')\n",
    "    \n",
    "def plot_mask(data,layer_name,colour='lightblue'):\n",
    "    img = ee.Image(data).select(layer_name)\n",
    "    img_mask = img.updateMask(img.eq(1))\n",
    "    date = data.getInfo()['properties']['Date']\n",
    "    Map.addLayer(img_mask, {'palette': colour}, f'{date} {layer_name}')\n",
    "    \n",
    "def add_wiw(img):\n",
    "    wiw = img.expression(\n",
    "        '((B8A/10000) <= 0.1804) && ((B12/10000) <= 0.1131)',{'B8A':img.select('B8A'),'B12':img.select('B12')}\n",
    "    ).rename('WIW')\n",
    "    return img.addBands(wiw)\n",
    "\n",
    "def add_rws(img):\n",
    "    mndwi = img.normalizedDifference(['B3','B11']).rename('MNDWI')\n",
    "    mgrn = img.select(['B4','B3','B8']).reduce(ee.Reducer.min()).rename('MGRN')\n",
    "    rws = img.expression(\n",
    "        'MNDWI > 0.3 && (MGRN/10000) < 0.15',{'MNDWI':mndwi,'MGRN':mgrn}\n",
    "    ).rename('RWS')\n",
    "    return img.addBands(rws)\n",
    "\n",
    "def apply_mask(image):\n",
    "    mask = image.select('RWS').eq(1)\n",
    "    rgb = image.select(['B4', 'B3', 'B2','RWS','WIW'])\n",
    "    masked_rgb = rgb.updateMask(mask)\n",
    "    return masked_rgb\n",
    "\n",
    "def add_kmeans(image):\n",
    "    rgb = image.select(['B4', 'B3', 'B2'])\n",
    "    train_samples = rgb.sample(scale=10,numPixels=100,seed=42)\n",
    "    k_means = ee.Clusterer.wekaKMeans(3).train(train_samples)\n",
    "    img_cluster = rgb.cluster(k_means)\n",
    "    \n",
    "    return image.addBands(img_cluster)"
   ]
  },
  {
   "cell_type": "code",
   "execution_count": null,
   "metadata": {},
   "outputs": [],
   "source": [
    "#get Sentinel-2 Level-1C collection for 2016\n",
    "\n",
    "cl_pct = 0\n",
    "\n",
    "s2_col = ee.ImageCollection(\"COPERNICUS/S2\") \\\n",
    "    .filterBounds(line_geom).filterDate('2016-01-01','2016-12-31') \\\n",
    "    .filter(ee.Filter.inList('MGRS_TILE', ['36JVP','36JVQ'])) \\\n",
    "    .filter(ee.Filter.lte('CLOUDY_PIXEL_PERCENTAGE', cl_pct)) \\\n",
    "    .select(['B2', 'B3', 'B4','B8','B8A','B11','B12'])\\\n",
    "\n",
    "#filter duplicated products \n",
    "s2_col_list = filter_duplicates(s2_col.toList(s2_col.size()))\n",
    "\n",
    "print('Nr. images found: ', s2_col_list.size().getInfo())\n",
    "\n",
    "#store product information\n",
    "# products = list(map(get_meta_s2,s2_col_list.getInfo()))\n",
    "# products_df = pd.concat(products).reset_index(drop=True)\n"
   ]
  },
  {
   "cell_type": "code",
   "execution_count": null,
   "metadata": {},
   "outputs": [],
   "source": [
    "#find matching tiles by date\n",
    "tile_matches = {}\n",
    "for i in range(s2_col_list.size().getInfo()):\n",
    "    data = s2_col_list.get(i)\n",
    "    prod_id = data.getInfo()['properties']['PRODUCT_ID']\n",
    "    date = str(pd.to_datetime(re.findall(r\"(\\d{8})T\", prod_id)[0]).date())\n",
    "    tile_matches.setdefault(date,[]).append(ee.Image(data))\n",
    "\n",
    "#create a mosaic from matched tiles\n",
    "s2_mosaics = []\n",
    "for date in tile_matches:\n",
    "    match = tile_matches[date]\n",
    "    if len(match)==2:\n",
    "        img_mos = ee.ImageCollection(match).mosaic().clip(poly_geom)\n",
    "        s2_mosaics += [img_mos.set({'Date': date})]\n",
    "    else:\n",
    "        img = match[0].clip(poly_geom)\n",
    "        s2_mosaics += [img.set({'Date': date})]\n",
    "s2_mos_col = ee.ImageCollection(s2_mosaics)\n",
    "\n",
    "print('Nr. mosaics: ', s2_mos_col .size().getInfo())"
   ]
  },
  {
   "cell_type": "code",
   "execution_count": null,
   "metadata": {},
   "outputs": [],
   "source": [
    "#add indices\n",
    "s2_mos_stack = s2_mos_col.map(add_rws)\n",
    "s2_mos_stack = s2_mos_stack.map(add_wiw)\n",
    "s2_mos_stack_list  = s2_mos_stack.toList(s2_mos_stack.size())"
   ]
  },
  {
   "cell_type": "code",
   "execution_count": null,
   "metadata": {
    "scrolled": true
   },
   "outputs": [],
   "source": [
    "#apply mask\n",
    "s2_masked_stack = s2_mos_stack.map(apply_mask)\n",
    "s2_masked_stack_list = s2_masked_stack.toList(s2_masked_stack.size())"
   ]
  },
  {
   "cell_type": "code",
   "execution_count": null,
   "metadata": {},
   "outputs": [],
   "source": [
    "#add kmeans\n",
    "s2_masked_stack_kmeans = s2_masked_stack.map(add_kmeans)\n",
    "s2_masked_stack_kmeans_list = s2_masked_stack_kmeans.toList(s2_masked_stack_kmeans.size())"
   ]
  },
  {
   "cell_type": "code",
   "execution_count": null,
   "metadata": {
    "scrolled": true
   },
   "outputs": [],
   "source": [
    "#plot latest available data\n",
    "data = s2_masked_stack_kmeans_list.get(-1)\n",
    "img = ee.Image(data).select('cluster')\n",
    "rgb = ee.Image(data).select(['B4','B3','B2'])\n",
    "# Map.addLayer(img.randomVisualizer(), {}, 'all')"
   ]
  },
  {
   "cell_type": "code",
   "execution_count": null,
   "metadata": {},
   "outputs": [],
   "source": [
    "img_all = img.reduceToVectors(scale=30,bestEffort=True)\n",
    "img_0 = img_all.filter(ee.Filter.eq('label', 0)).union(maxError=10).toList(1).get(0)\n",
    "img_1 = img_all.filter(ee.Filter.eq('label', 1)).union(maxError=10).toList(1).get(0)\n",
    "img_2 = img_all.filter(ee.Filter.eq('label', 2)).union(maxError=10).toList(1).get(0)\n",
    "img_all2 = ee.FeatureCollection([img_0,img_1,img_2])"
   ]
  },
  {
   "cell_type": "code",
   "execution_count": null,
   "metadata": {
    "scrolled": true
   },
   "outputs": [],
   "source": [
    "reducers = ee.Reducer.mean().combine(reducer2 = ee.Reducer.stdDev(),sharedInputs= True)\n",
    "stats = rgb.reduceRegions(\n",
    "  collection= img_all2,\n",
    "  reducer= reducers,\n",
    "  scale= 30)\n",
    "\n",
    "stats_list = stats.toList(stats.size())"
   ]
  },
  {
   "cell_type": "code",
   "execution_count": null,
   "metadata": {
    "scrolled": true
   },
   "outputs": [],
   "source": [
    "stats_list.get(0).getInfo()['properties']"
   ]
  },
  {
   "cell_type": "code",
   "execution_count": null,
   "metadata": {
    "scrolled": false
   },
   "outputs": [],
   "source": [
    "# #convert mask to polygon explicitly \n",
    "# img = ee.Image(data).select('RWS')\n",
    "# img_mask = img.updateMask(img.eq(1)).reduceToVectors(scale=10,bestEffort=True)\n",
    "# polygon = img_mask.union(maxError=10).geometry()\n",
    "\n",
    "# test = img_cluster.updateMask(img_cluster.eq(2))\n",
    "# Map.addLayer(test.randomVisualizer(), {}, 'test 2')"
   ]
  }
 ],
 "metadata": {
  "kernelspec": {
   "display_name": "Python 3",
   "language": "python",
   "name": "python3"
  },
  "language_info": {
   "codemirror_mode": {
    "name": "ipython",
    "version": 3
   },
   "file_extension": ".py",
   "mimetype": "text/x-python",
   "name": "python",
   "nbconvert_exporter": "python",
   "pygments_lexer": "ipython3",
   "version": "3.8.2"
  }
 },
 "nbformat": 4,
 "nbformat_minor": 4
}
