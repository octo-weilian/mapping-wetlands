{
 "cells": [
  {
   "cell_type": "code",
   "execution_count": null,
   "metadata": {},
   "outputs": [],
   "source": [
    "#import libraries\n",
    "import pandas as pd\n",
    "import matplotlib.pyplot as plt\n",
    "import seaborn as sns\n",
    "from glob import glob\n",
    "import os\n"
   ]
  },
  {
   "cell_type": "code",
   "execution_count": null,
   "metadata": {},
   "outputs": [],
   "source": [
    "#list station data per month\n",
    "files = glob(\"./data/HLL_data*.csv\")\n",
    "files"
   ]
  },
  {
   "cell_type": "code",
   "execution_count": null,
   "metadata": {},
   "outputs": [],
   "source": [
    "df_list = []\n",
    "for file in files:\n",
    "    \n",
    "    #read file and create a subset\n",
    "    df = pd.read_csv(file)\n",
    "    subset = df[['time','id',\"no2_mean\",\"pm10_mean\",\"pm25_mean\"]]\n",
    "    \n",
    "    #add dataframe to df_merge list\n",
    "    df_list.append(subset)\n",
    "\n",
    "#concat/ merge dataframe (axis=0 row wise, axis=1 column wise)\n",
    "df_merged = pd.concat(df_list,axis=0).reset_index(drop=True)\n",
    "\n",
    "#convert time column to datetime object\n",
    "df_merged['time'] = pd.to_datetime(df_merged['time'])\n",
    "\n",
    "#show merged data\n",
    "df_merged.head(5)"
   ]
  },
  {
   "cell_type": "code",
   "execution_count": null,
   "metadata": {},
   "outputs": [],
   "source": [
    "#create new column with date and month\n",
    "df_merged['date'] = df_merged['time'].apply(lambda x: x.date())\n",
    "df_merged['month'] = df_merged['time'].apply(lambda x: x.date().month)\n",
    "\n",
    "#aggregate hourly date to days or months (average)\n",
    "df_merged_days = df_merged.groupby(by='date').mean().reset_index()\n",
    "df_merged_months = df_merged.groupby(by='month').mean().reset_index()"
   ]
  },
  {
   "cell_type": "code",
   "execution_count": null,
   "metadata": {},
   "outputs": [],
   "source": [
    "#show daily average\n",
    "df_merged_days.head(5)"
   ]
  },
  {
   "cell_type": "code",
   "execution_count": null,
   "metadata": {},
   "outputs": [],
   "source": [
    "#show monthly average\n",
    "df_merged_months.head(5)"
   ]
  },
  {
   "cell_type": "code",
   "execution_count": null,
   "metadata": {},
   "outputs": [],
   "source": [
    "#function to plot data\n",
    "def plot_data(df,time_column,title):\n",
    "\n",
    "    #define column names and x-axis\n",
    "    col_names = ['no2_mean','pm10_mean','pm25_mean']\n",
    "    x = df[time_column]\n",
    "\n",
    "    #colors for each attribute\n",
    "    colors=['red','blue','green']\n",
    "\n",
    "    #setup figure and nr. of plots\n",
    "    fig,axs = plt.subplots(3,1,figsize=(15,8))\n",
    "\n",
    "    #loop over data\n",
    "    for i in range(len(col_names)):\n",
    "\n",
    "        #get data\n",
    "        col = col_names[i]\n",
    "        y = df[col]\n",
    "\n",
    "        #plot scatterplot and line \n",
    "        axs[i].scatter(x,y,label=col,color=colors[i])\n",
    "        axs[i].plot(x,y,color='black',ls='--')\n",
    "\n",
    "        #plot legend\n",
    "        axs[i].legend()\n",
    "\n",
    "    #set y and x axes labels\n",
    "    axs[1].set_ylabel('Concentration (g/mg3)')\n",
    "    plt.xlabel('Time')\n",
    "    axs[0].set_title(title)"
   ]
  },
  {
   "cell_type": "code",
   "execution_count": null,
   "metadata": {},
   "outputs": [],
   "source": [
    "#plot hourly data\n",
    "plot_data(df_merged,'time','Hourly time-series')\n",
    "\n",
    "#plot daily data data\n",
    "plot_data(df_merged_days,'date','Daily time-series')\n",
    "\n",
    "#plot daily data data\n",
    "plot_data(df_merged_days,'month','Monthly time-series')"
   ]
  },
  {
   "cell_type": "code",
   "execution_count": null,
   "metadata": {},
   "outputs": [],
   "source": []
  }
 ],
 "metadata": {
  "kernelspec": {
   "display_name": "Python 3",
   "language": "python",
   "name": "python3"
  },
  "language_info": {
   "codemirror_mode": {
    "name": "ipython",
    "version": 3
   },
   "file_extension": ".py",
   "mimetype": "text/x-python",
   "name": "python",
   "nbconvert_exporter": "python",
   "pygments_lexer": "ipython3",
   "version": "3.6.10"
  }
 },
 "nbformat": 4,
 "nbformat_minor": 4
}
