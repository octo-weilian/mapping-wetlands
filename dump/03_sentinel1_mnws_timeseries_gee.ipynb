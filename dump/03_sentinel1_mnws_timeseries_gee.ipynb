{
 "cells": [
  {
   "cell_type": "code",
   "execution_count": null,
   "metadata": {},
   "outputs": [],
   "source": [
    "import geemap\n",
    "import ee\n",
    "import json\n",
    "import os\n",
    "import requests\n",
    "import re\n",
    "from geemap import geojson_to_ee, ee_to_geojson\n",
    "from ipyleaflet import GeoJSON\n",
    "import pandas as pd\n",
    "from datetime import datetime\n",
    "import numpy as np\n",
    "from glob import glob\n",
    "import urllib.request\n",
    "from matplotlib.pyplot import imshow\n",
    "from PIL import Image,ImageDraw,ImageFont\n",
    "\n",
    "from IPython.core.display import display, HTML\n",
    "display(HTML(\"<style>.container { width:90% !important; }</style>\"))\n",
    "\n",
    "#initialize GEE using your Google Account\n",
    "try:\n",
    "    ee.Initialize()\n",
    "except Exception as e:\n",
    "    ee.Authenticate()\n",
    "    ee.Initialize()\n",
    "    \n",
    "    "
   ]
  },
  {
   "cell_type": "code",
   "execution_count": null,
   "metadata": {},
   "outputs": [],
   "source": [
    "#set up GEE map canvas (will be updated with every addLayer() method)\n",
    "Map = geemap.Map(center=[-27.93186,32.48897],zoom=9)\n",
    "Map.add_basemap('SATELLITE')\n",
    "# Map.add_basemap('CartoDB.DarkMatter')\n",
    "\n",
    "#study area\n",
    "file_path = './data/boundaries/ramsar_stlucia_bbox.geojson'\n",
    "with open(file_path) as f:\n",
    "    coord = json.load(f)['features'][0]['geometry']['coordinates'][0]\n",
    "    line_geom = ee.Geometry.LineString(coord)\n",
    "    \n",
    "    #polygon used for clipping purposes\n",
    "    poly_geom = ee.Geometry.Polygon(coord)\n",
    "    \n",
    "Map.addLayer(ee_object=line_geom, vis_params={'color':'red'}, name=\"Lesser Isimangaliso Wetland Park\")\n",
    "\n",
    "Map"
   ]
  },
  {
   "cell_type": "code",
   "execution_count": null,
   "metadata": {},
   "outputs": [],
   "source": [
    "#get Sentinel-2 Level-1C collection for 2017\n",
    "\n",
    "\n",
    "s1_col = ee.ImageCollection('COPERNICUS/S1_GRD') \\\n",
    "    .filterBounds(poly_geom).filterDate('2017-01-01','2017-12-31') \\\n",
    "    .filter(ee.Filter.listContains('transmitterReceiverPolarisation', 'VV')) \\\n",
    "    .filter(ee.Filter.listContains('transmitterReceiverPolarisation', 'VH')) \\\n",
    "    .filter(ee.Filter.eq('instrumentMode', 'IW')).select(['VV','VH'])\n",
    "\n",
    "s1_col = s1_col.map(lambda x:x.clip(poly_geom))\n",
    "\n",
    "# #filter products \n",
    "s1_col_list = s1_col.toList(s1_col.size())\n",
    "\n",
    "print('Nr. S1 images found: ', s1_col.size().getInfo())\n",
    "\n",
    "#remove duplicates based on first occurence unique endtime\n",
    "s1_products = np.array(s1_col_list.map(lambda x:ee.Image(x).id()).getInfo())\n",
    "s1_date_un = np.unique(np.array([f.split('_')[4].split('T')[0] for f in s1_products])).tolist()\n",
    "\n",
    "invalid_dates = np.array(['20170801','20171025','20171106','20171118','20171130','20171212','20171224'])\n",
    "s1_date_un_valid = np.setdiff1d(np.array(s1_date_un),invalid_dates).tolist()\n",
    "\n",
    "s1_products_filtered_group=[]\n",
    "\n",
    "for u_d in s1_date_un_valid:\n",
    "    group = []\n",
    "    for prd in s1_products:\n",
    "        if u_d in prd:\n",
    "            group.append(prd)\n",
    "    s1_products_filtered_group.append(group)\n",
    "    \n",
    "s1_mos_list = []\n",
    "for i in range(len(s1_products_filtered_group)):\n",
    "    group = s1_products_filtered_group[i]\n",
    "    date = s1_date_un_valid [i]\n",
    "    s1_mos = s1_col.filter(ee.Filter.inList('system:index', group)).mosaic().clip(poly_geom).set('Date', date)\n",
    "    s1_mos_list.append(s1_mos)\n",
    "s1_mos_col = ee.ImageCollection(s1_mos_list)\n",
    "s1_mos_col_list = s1_mos_col.toList(s1_mos_col.size())\n",
    "\n",
    "print('Nr. S1 mosaics created: ', s1_mos_col.size().getInfo())"
   ]
  },
  {
   "cell_type": "code",
   "execution_count": null,
   "metadata": {},
   "outputs": [],
   "source": [
    "for i in range(len(s1_mos_list)):\n",
    "    mos = s1_mos_list[i]\n",
    "    date = s1_date_un[i]\n",
    "    Map.addLayer(mos , {'bands':'VH','min': -20, 'max': -7},date) "
   ]
  },
  {
   "cell_type": "code",
   "execution_count": null,
   "metadata": {},
   "outputs": [],
   "source": [
    "Map.addLayer(ee.Image(s1_col_list.get(-6)), {'bands':'VH','min': -20, 'max': -7}, s1_products[-6]) "
   ]
  },
  {
   "cell_type": "code",
   "execution_count": null,
   "metadata": {},
   "outputs": [],
   "source": [
    "# export image to drive\n",
    "\n",
    "#export\n",
    "aoi = ee_to_geojson(poly_geom)['coordinates'][0]\n",
    "\n",
    "for i in range(len(s1_date_un_valid)):\n",
    "    data = ee.Image(s1_mos_col_list.get(i))\n",
    "    task = ee.batch.Export.image.toDrive(data, \n",
    "                                         description='s1_image',\n",
    "                                         folder='GEE_output',\n",
    "                                         fileNamePrefix=f's1_mosaic_{s1_date_un_valid[i]}',\n",
    "                                         crs='EPSG:32736',\n",
    "                                         scale=10,\n",
    "                                         maxPixels=1e8,\n",
    "                                         fileFormat='GeoTIFF',\n",
    "                                         skipEmptyTiles=True,\n",
    "                                         region=aoi)\n",
    "    task.start()"
   ]
  },
  {
   "cell_type": "code",
   "execution_count": null,
   "metadata": {},
   "outputs": [],
   "source": [
    "task.status()"
   ]
  },
  {
   "cell_type": "code",
   "execution_count": null,
   "metadata": {},
   "outputs": [],
   "source": []
  }
 ],
 "metadata": {
  "kernelspec": {
   "display_name": "Python 3",
   "language": "python",
   "name": "python3"
  },
  "language_info": {
   "codemirror_mode": {
    "name": "ipython",
    "version": 3
   },
   "file_extension": ".py",
   "mimetype": "text/x-python",
   "name": "python",
   "nbconvert_exporter": "python",
   "pygments_lexer": "ipython3",
   "version": "3.8.2"
  }
 },
 "nbformat": 4,
 "nbformat_minor": 4
}
