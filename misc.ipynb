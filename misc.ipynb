{
 "cells": [
  {
   "cell_type": "code",
   "execution_count": null,
   "metadata": {},
   "outputs": [],
   "source": [
    "import rasterio as rio\n",
    "import numpy as np\n",
    "import seaborn as sns\n",
    "import matplotlib.pyplot as plt\n",
    "\n",
    "def compute_index(left_band,right_band,name):\n",
    "    np.seterr(divide='ignore', invalid='ignore')\n",
    "    \n",
    "    if name == 'MNDWI':\n",
    "        b3= left_band.astype(np.float32)\n",
    "        b11 = right_band.astype(np.float32)\n",
    "        index = (b3-b11)/(b3+b11)\n",
    "\n",
    "    elif name =='NDVI':\n",
    "        b8a= left_band.astype(np.float32)\n",
    "        b4=right_band.astype(np.float32)\n",
    "        index = (b8a-b4)/(b8a+b4)\n",
    "    \n",
    "    return index\n",
    "\n",
    "def compute_ipm(target_img,reference_img):\n",
    "    \"\"\"\"\n",
    "    Compute invalid pixel mask (cloud, cloud shadow  and land vegetation)\n",
    "    Input image should be stacked in the following order ['B2','B3','B4','B8A','B11']\n",
    "    \"\"\"\"\n",
    "    \n",
    "    np.seterr(divide='ignore', invalid='ignore')\n",
    "    \n",
    "    #compute cloud masks after using multitemporal cloud masking (MCM) method (Candra et al., 2020)\n",
    "    db11 = target_img[4]-reference_img[4]\n",
    "    db8a = target_img[3]-reference_img[3]\n",
    "    db2 = target_img[2]-reference_img[2]\n",
    "    db3 = target_img[1]-reference_img[1]\n",
    "    db4 = target_img[0]-reference_img[0]\n",
    "    \n",
    "    #additional mask for land vegetation \n",
    "    ndvi_img = compute_index(target_img[3],target_img[2],'NDVI')\n",
    "    \n",
    "    #render masks into a single unified mask\n",
    "    #cloud shadow = 1, thick cloud = 2, land vegetation = 3\n",
    "    cl_shadow = np.where( (db8a<-400) & ( db11<-400 ),1,0)\n",
    "    cl_thick = np.where( ((db2 > 800) & (db3 >800) & (db4 >800)),2,0)\n",
    "    land_veg = np.where(ndvi_img>0.5,3,0)\n",
    "       \n",
    "    return np.amax(np.array([cl_shadow,cl_thick,land_veg]),0)\n",
    "    "
   ]
  }
 ],
 "metadata": {
  "kernelspec": {
   "display_name": "Python 3",
   "language": "python",
   "name": "python3"
  },
  "language_info": {
   "codemirror_mode": {
    "name": "ipython",
    "version": 3
   },
   "file_extension": ".py",
   "mimetype": "text/x-python",
   "name": "python",
   "nbconvert_exporter": "python",
   "pygments_lexer": "ipython3",
   "version": "3.6.10"
  }
 },
 "nbformat": 4,
 "nbformat_minor": 4
}
