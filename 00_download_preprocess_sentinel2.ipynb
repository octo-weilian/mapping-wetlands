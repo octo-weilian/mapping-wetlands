{
 "cells": [
  {
   "cell_type": "code",
   "execution_count": null,
   "metadata": {},
   "outputs": [],
   "source": [
    "from sentinelsat import *\n",
    "from collections import OrderedDict\n",
    "from datetime import datetime,timedelta, date\n",
    "import pandas as pd\n",
    "import getpass\n",
    "import os \n",
    "import re\n",
    "from glob import glob\n",
    "import subprocess\n",
    "import numpy as np\n",
    "from tqdm import tqdm,tqdm_notebook\n",
    "import zipfile\n",
    "# from google.cloud import storage \n",
    "# import ee\n",
    "from IPython.core.display import display, HTML\n",
    "display(HTML(\"<style>.container { width:90% !important; }</style>\"))\n",
    "import requests\n",
    "import time"
   ]
  },
  {
   "cell_type": "code",
   "execution_count": null,
   "metadata": {},
   "outputs": [],
   "source": [
    "#user authentication (Copernicus account)\n",
    "username = getpass.getpass(\"Username:\")\n",
    "pswd = getpass.getpass(\"Password:\")\n",
    "api = SentinelAPI(username,pswd,'https://scihub.copernicus.eu/dhus')"
   ]
  },
  {
   "cell_type": "code",
   "execution_count": null,
   "metadata": {
    "scrolled": true
   },
   "outputs": [],
   "source": [
    "def get_products(dates,tiles):\n",
    "    products = OrderedDict()\n",
    "    for tile in tiles:\n",
    "        for date in tqdm(dates,position=0, leave=True):\n",
    "            date_format = datetime.strptime(date.replace('-',''),'%Y%m%d').date()\n",
    "\n",
    "            kw_query = {'platformname':'Sentinel-2',\n",
    "                       'filename':f'*_T{tile}_*',\n",
    "                       'date':(date_format,date_format+timedelta(days=1))}\n",
    "\n",
    "            if date_format>pd.to_datetime('2018-12-01').date():\n",
    "                kw_query['producttype']= 'S2MSI2A'\n",
    "            else:\n",
    "                kw_query['producttype']= 'S2MSI1C'\n",
    "            \n",
    "            \n",
    "            pp = api.query(**kw_query)\n",
    "            products.update(pp)\n",
    "    return api.to_dataframe(products)\n",
    "\n",
    "def check_online(products) :\n",
    "    count = 0\n",
    "    for product_id in products.index:\n",
    "        if api.get_product_odata(product_id)['Online']:\n",
    "            count+=1\n",
    "    print('Nr of products:',len(products),'online products:',count)\n",
    "    \n",
    "def filter_blobs(blobs,band_names):\n",
    "    band_blobs = []\n",
    "    for band in band_names:\n",
    "        for blob in blobs:\n",
    "            if band in blob.name and blob.name.endswith('.jp2'):\n",
    "                band_blobs.append(blob)\n",
    "    return band_blobs\n",
    "    \n",
    "# prod_2017 = get_products(dates[0],tiles)\n",
    "# prod_2018 = get_products(dates[1],tiles)\n",
    "# prod_2019 = get_products(dates[2],tiles)\n",
    "\n",
    "# #export as csv\n",
    "# prod_2017.to_csv(download_dir+'/prod_2017.csv')\n",
    "# prod_2018.to_csv(download_dir+'/prod_2018.csv')\n",
    "# prod_2019.to_csv(download_dir+'/prod_2019.csv')"
   ]
  },
  {
   "cell_type": "code",
   "execution_count": null,
   "metadata": {},
   "outputs": [],
   "source": [
    "tiles = ['36JVP','36JVQ']\n",
    "\n",
    "band_names = ['B02','B03','B04','B05','B06','B07','B08','B8A','B11','B12']\n",
    "\n",
    "files = glob('./data/ts_animation/*.csv')\n",
    "dates = list(map(lambda x:pd.read_csv(x,index_col=0).values.reshape(-1),files))\n",
    "download_dir = getpass.getpass('download dir:')"
   ]
  },
  {
   "cell_type": "code",
   "execution_count": null,
   "metadata": {},
   "outputs": [],
   "source": []
  },
  {
   "cell_type": "code",
   "execution_count": null,
   "metadata": {
    "scrolled": true
   },
   "outputs": [],
   "source": [
    "s2_index = download_dir+'/index.csv.gz'\n",
    "google_scenes = pd.read_csv(s2_index, compression='gzip',dtype='unicode')\n",
    "google_scenes['SENSING_TIME'] = pd.to_datetime(google_scenes['SENSING_TIME']).dt.date.astype(str)"
   ]
  },
  {
   "cell_type": "code",
   "execution_count": null,
   "metadata": {},
   "outputs": [],
   "source": [
    "my_products = google_scenes[google_scenes['SENSING_TIME'].isin(dates[0]) & google_scenes['MGRS_TILE'].isin(tiles)]\n",
    "my_products = my_products.sort_values('SENSING_TIME')"
   ]
  },
  {
   "cell_type": "code",
   "execution_count": null,
   "metadata": {
    "scrolled": true
   },
   "outputs": [],
   "source": [
    "client = storage.Client().from_service_account_json(os.environ['GOOGLE_APPLICATION_CREDENTIALS'])\n",
    "bucket = client.get_bucket(\"gcp-public-data-sentinel-2\")"
   ]
  },
  {
   "cell_type": "code",
   "execution_count": null,
   "metadata": {},
   "outputs": [],
   "source": [
    "for base_url in tqdm(my_products['BASE_URL'].values,position=0, leave=True):\n",
    "    time.sleep(1)\n",
    "    \n",
    "    bucket_dest = base_url.replace('gs://gcp-public-data-sentinel-2/','')\n",
    "    safe_name = bucket_dest.split('/')[-1]\n",
    "    safe_dir = os.path.join(download_dir,'s2_2017',safe_name)\n",
    "    \n",
    "    if not os.path.exists(safe_dir):\n",
    "        blobs = list(bucket.list_blobs(prefix=bucket_dest))\n",
    "        blobs = filter_blobs(blobs,band_names)\n",
    "        for b in blobs:\n",
    "            bucket_base = 'https://storage.googleapis.com/gcp-public-data-sentinel-2/'\n",
    "            fend = b.name.split(safe_name)[-1]\n",
    "            fname = safe_dir+fend\n",
    "            os.makedirs(os.path.dirname(fname),exist_ok=True)\n",
    "\n",
    "            with open(fname, 'wb') as f:\n",
    "                client.download_blob_to_file(b,f)"
   ]
  },
  {
   "cell_type": "code",
   "execution_count": null,
   "metadata": {},
   "outputs": [],
   "source": []
  },
  {
   "cell_type": "code",
   "execution_count": null,
   "metadata": {},
   "outputs": [],
   "source": []
  },
  {
   "cell_type": "code",
   "execution_count": null,
   "metadata": {},
   "outputs": [],
   "source": [
    "#download products\n",
    "api.download_all(prod_df.index,download_dir+'\\\\s2_2017')"
   ]
  },
  {
   "cell_type": "code",
   "execution_count": null,
   "metadata": {},
   "outputs": [],
   "source": [
    "#unzip files\n",
    "# for f in glob(download_dir +'/*.zip'):\n",
    "#     with zipfile.ZipFile(f, 'r') as zip_ref:\n",
    "#         zip_ref.extractall(download_dir)"
   ]
  }
 ],
 "metadata": {
  "kernelspec": {
   "display_name": "Python 3",
   "language": "python",
   "name": "python3"
  },
  "language_info": {
   "codemirror_mode": {
    "name": "ipython",
    "version": 3
   },
   "file_extension": ".py",
   "mimetype": "text/x-python",
   "name": "python",
   "nbconvert_exporter": "python",
   "pygments_lexer": "ipython3",
   "version": "3.6.10"
  }
 },
 "nbformat": 4,
 "nbformat_minor": 4
}
