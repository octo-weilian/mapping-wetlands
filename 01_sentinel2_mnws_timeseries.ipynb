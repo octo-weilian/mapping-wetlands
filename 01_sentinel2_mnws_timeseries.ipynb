{
 "cells": [
  {
   "cell_type": "code",
   "execution_count": 1,
   "metadata": {},
   "outputs": [],
   "source": [
    "import geemap\n",
    "import json\n",
    "import os\n",
    "import requests\n",
    "import re\n",
    "from geemap import geojson_to_ee, ee_to_geojson\n",
    "from ipyleaflet import GeoJSON\n",
    "import pandas as pd\n",
    "import ee\n",
    "import numpy as np\n",
    "\n",
    "#initialize GEE using your Google Account\n",
    "try:\n",
    "    ee.Initialize()\n",
    "except Exception as e:\n",
    "    ee.Authenticate()\n",
    "    ee.Initialize()"
   ]
  },
  {
   "cell_type": "code",
   "execution_count": 24,
   "metadata": {},
   "outputs": [
    {
     "data": {
      "application/vnd.jupyter.widget-view+json": {
       "model_id": "5d2b450dfc60431d9d03a3086ff9297f",
       "version_major": 2,
       "version_minor": 0
      },
      "text/plain": [
       "Map(center=[-27.93186, 32.48897], controls=(ZoomControl(options=['position', 'zoom_in_text', 'zoom_in_title', …"
      ]
     },
     "metadata": {},
     "output_type": "display_data"
    }
   ],
   "source": [
    "#set up GEE map canvas (will be updated with every addLayer() method)\n",
    "Map = geemap.Map(center=[-27.93186,32.48897],zoom=9)\n",
    "Map.add_basemap('SATELLITE')\n",
    "Map.add_basemap('CartoDB.DarkMatter')\n",
    "\n",
    "#study area\n",
    "file_path = './data/boundaries/isimangaliso_lesser_bbox.geojson'\n",
    "with open(file_path) as f:\n",
    "    coord = json.load(f)['features'][0]['geometry']['coordinates'][0][0]\n",
    "    line_geom = ee.Geometry.LineString(coord)\n",
    "    \n",
    "    #polygon used for clipping purposes\n",
    "    poly_geom = ee.Geometry.Polygon(coord)\n",
    "    \n",
    "Map.addLayer(ee_object=line_geom, vis_params={'color':'red'}, name=\"Lesser Isimangaliso Wetland Park\")\n",
    "Map\n",
    "    \n"
   ]
  },
  {
   "cell_type": "code",
   "execution_count": 3,
   "metadata": {},
   "outputs": [],
   "source": [
    "def get_meta_s2(data_info):\n",
    "    prod_id = data_info['properties']['PRODUCT_ID']\n",
    "    date = pd.to_datetime(re.findall(r\"(\\d{8})T\", prod_id)[0]).date()\n",
    "    cl_cover = round(data_info['properties']['CLOUD_COVERAGE_ASSESSMENT'],2)\n",
    "    tile = re.findall(r\"(\\d{2}[A-Z]{3})\", prod_id)[0]\n",
    "    df = pd.DataFrame({'id':prod_id,'date':date,'tile':tile,'cloudcover':cl_cover},index=[0])\n",
    "    return df\n",
    "\n",
    "def filter_duplicates (s2_col_list):\n",
    "    s2_filtered = []\n",
    "    for i in range(s2_col.size().getInfo()):\n",
    "        prod_id =  s2_col_list.get(i).getInfo()['properties']['PRODUCT_ID']\n",
    "        if 'OPER_PRD' not in prod_id:\n",
    "            s2_filtered += [ee.Image(s2_col_list.get(i))]\n",
    "    s2_filtered_col = ee.ImageCollection(s2_filtered)\n",
    "    s2_filtered_list = s2_filtered_col.toList(s2_filtered_col.size())\n",
    "    return s2_filtered_list"
   ]
  },
  {
   "cell_type": "code",
   "execution_count": 4,
   "metadata": {},
   "outputs": [
    {
     "name": "stdout",
     "output_type": "stream",
     "text": [
      "Nr. images found:  10\n"
     ]
    }
   ],
   "source": [
    "#get Sentinel-2 Level-1C collection for 2016\n",
    "s2_col = ee.ImageCollection(\"COPERNICUS/S2\") \\\n",
    "    .filterBounds(line_geom).filterDate('2016-01-01','2016-12-31') \\\n",
    "    .filter(ee.Filter.inList('MGRS_TILE', ['36JVP','36JVQ'])) \\\n",
    "    .filter(ee.Filter.lte('CLOUDY_PIXEL_PERCENTAGE', 0)) \\\n",
    "    .select(['B2', 'B3', 'B4','B8','B8A','B11','B12'])\\\n",
    "\n",
    "\n",
    "#filter duplicated products \n",
    "s2_col_list = filter_duplicates(s2_col.toList(s2_col.size()))\n",
    "\n",
    "print('Nr. images found: ', s2_col_list.size().getInfo())\n",
    "\n",
    "#store product information\n",
    "products = list(map(get_meta_s2,s2_col_list.getInfo()))\n",
    "products_df = pd.concat(products).reset_index(drop=True)\n"
   ]
  },
  {
   "cell_type": "code",
   "execution_count": 5,
   "metadata": {},
   "outputs": [],
   "source": [
    "#find matching tiles by date\n",
    "tile_matches = {}\n",
    "for i in range(s2_col_list.size().getInfo()):\n",
    "    data = s2_col_list.get(i)\n",
    "    prod_id = data.getInfo()['properties']['PRODUCT_ID']\n",
    "    date = str(pd.to_datetime(re.findall(r\"(\\d{8})T\", prod_id)[0]).date())\n",
    "    tile_matches.setdefault(date,[]).append(ee.Image(data))\n",
    "    "
   ]
  },
  {
   "cell_type": "code",
   "execution_count": 20,
   "metadata": {},
   "outputs": [],
   "source": [
    "#create a mosaic from the matched tiles\n",
    "s2_mosaics = []\n",
    "for date in tile_matches:\n",
    "    match = tile_matches[date]\n",
    "    if len(match)==2:\n",
    "        img_mos = ee.ImageCollection(match).mosaic().clip(poly_geom)\n",
    "        s2_mosaics += [img_mos.set({'Date': date})]\n",
    "    else:\n",
    "        img = match[0].clip(poly_geom)\n",
    "        s2_mosaics += [img.set({'Date': date})]\n",
    "s2_mos_col = ee.ImageCollection(s2_mosaics)\n",
    "s2_mos_col_list = s2_mos_col.toList(s2_mos_col.size())"
   ]
  },
  {
   "cell_type": "code",
   "execution_count": 25,
   "metadata": {},
   "outputs": [],
   "source": [
    "# #visualize RGB mosaics\n",
    "# for i in range(s2_mos_col_list.size().getInfo()):\n",
    "#     data = s2_mos_col_list.get(i)\n",
    "#     img_mos = ee.Image(data)\n",
    "#     date = data.getInfo()['properties']['Date']\n",
    "#     viz_rgb = {'bands': ['B4', 'B3', 'B2'],'gain': [0.1, 0.1, 0.1],'scale':30}\n",
    "#     Map.addLayer(img_mos, viz_rgb, date)\n",
    "    \n",
    "data = s2_mos_col_list.get(-1)\n",
    "img_mos = ee.Image(data)\n",
    "date = data.getInfo()['properties']['Date']\n",
    "viz_rgb = {'bands': ['B4', 'B3', 'B2'],'gain': [0.1, 0.1, 0.1],'scale':30}\n",
    "Map.addLayer(img_mos, viz_rgb, date)"
   ]
  },
  {
   "cell_type": "code",
   "execution_count": 26,
   "metadata": {},
   "outputs": [],
   "source": [
    "def add_wiw(img):\n",
    "    wiw = img.expression(\n",
    "        '((B8A/10000) <= 0.1804) && ((B12/10000) <= 0.1131)',{'B8A':img.select('B8A'),'B12':img.select('B12')}\n",
    "    ).rename('WIW')\n",
    "    return img.addBands(wiw)\n",
    "\n",
    "def add_rws(img):\n",
    "    mndwi = img.normalizedDifference(['B3','B11']).rename('MNDWI')\n",
    "    mgrn = img.select(['B4','B3','B8']).reduce(ee.Reducer.min()).rename('MGRN')\n",
    "    rws = img.expression(\n",
    "        'MNDWI > 0.3 && (MGRN/10000) < 0.15',{'MNDWI':mndwi,'MGRN':mgrn}\n",
    "    ).rename('RWS')\n",
    "    return img.addBands(rws)\n"
   ]
  },
  {
   "cell_type": "code",
   "execution_count": 22,
   "metadata": {
    "scrolled": true
   },
   "outputs": [],
   "source": [
    "s2_mos_stack = s2_mos_col.map(add_rws)\n",
    "s2_mos_stack = s2_mos_stack.map(add_wiw)\n",
    "s2_mos_stack_list  = s2_mos_stack.toList(s2_mos_stack.size())"
   ]
  },
  {
   "cell_type": "code",
   "execution_count": null,
   "metadata": {
    "scrolled": true
   },
   "outputs": [],
   "source": []
  },
  {
   "cell_type": "code",
   "execution_count": 28,
   "metadata": {
    "scrolled": true
   },
   "outputs": [],
   "source": [
    "wiw = ee.Image(s2_mos_stack_list.get(-1)).select('WIW')\n",
    "viz = {'min': 1, 'max': 1, 'palette': ['blue'],'scale':30}\n",
    "new_wiw = wiw.updateMask(wiw.eq(1))\n",
    "Map.addLayer(new_wiw, {'palette':'blue'}, 'WIW 2016-09-01')\n",
    "\n",
    "rws = ee.Image(s2_mos_stack_list.get(-1)).select('RWS')\n",
    "new_rws = rws.updateMask(rws.eq(1))\n",
    "Map.addLayer(new_rws, {'palette':'blue'}, 'RWS 2016-09-01')"
   ]
  },
  {
   "cell_type": "code",
   "execution_count": null,
   "metadata": {},
   "outputs": [],
   "source": []
  }
 ],
 "metadata": {
  "kernelspec": {
   "display_name": "Python 3",
   "language": "python",
   "name": "python3"
  },
  "language_info": {
   "codemirror_mode": {
    "name": "ipython",
    "version": 3
   },
   "file_extension": ".py",
   "mimetype": "text/x-python",
   "name": "python",
   "nbconvert_exporter": "python",
   "pygments_lexer": "ipython3",
   "version": "3.8.2"
  }
 },
 "nbformat": 4,
 "nbformat_minor": 4
}
