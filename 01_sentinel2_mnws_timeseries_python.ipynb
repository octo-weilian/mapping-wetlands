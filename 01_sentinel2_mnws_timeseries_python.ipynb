{
 "cells": [
  {
   "cell_type": "code",
   "execution_count": null,
   "metadata": {},
   "outputs": [],
   "source": [
    "import os\n",
    "from glob import glob\n",
    "import rasterio as rio\n",
    "import numpy as np\n",
    "from tqdm import tqdm,tqdm_notebook\n",
    "from sklearn.cluster import MiniBatchKMeans\n",
    "from rasterio.plot import reshape_as_image\n",
    "\n",
    "\n",
    "from IPython.core.display import display, HTML\n",
    "display(HTML(\"<style>.container { width:90% !important; }</style>\"))"
   ]
  },
  {
   "cell_type": "code",
   "execution_count": null,
   "metadata": {},
   "outputs": [],
   "source": [
    "\n",
    "def compute_rws(stack_arr,rws_type):\n",
    "    np.seterr(divide='ignore', invalid='ignore')\n",
    "    \n",
    "    if rws_type == 'WIW':\n",
    "        b8a = stack_arr[7].astype(np.float32)/10000\n",
    "        b12 = stack_arr[9].astype(np.float32)/10000\n",
    "        rws = np.where( ((b8a<=0.1804) & (b12<=0.1131)), 1, 0)\n",
    "\n",
    "    elif rws_type == 'RWS':\n",
    "        b3= stack_arr[1].astype(np.float32)/10000\n",
    "        b11 = stack_arr[8].astype(np.float32)/10000\n",
    "        mndwi = np.where(((b3-b11)/(b3+b11))>0.3,1,0)\n",
    "        mgrn = (stack_arr[[1,2,6]].astype(np.float32)/10000).min(0)\n",
    "        rws = np.where((mndwi>0.3)&((mgrn>0) & (mgrn<0.15)),1,0)\n",
    "    \n",
    "    nodata_mask = np.where(stack_arr==0,1,0).max(0)\n",
    "    rws_img = np.where((nodata_mask!=1) & (rws==1),stack_arr,0)\n",
    "    return rws_img\n",
    "        \n",
    "def compute_cluster(rws_rgb_img,k=4):\n",
    "    samples = reshape_as_image(rws_rgb_img).reshape(-1,rws_rgb_img.shape[0])\n",
    "    kmeans_pred = MiniBatchKMeans(n_clusters=k+1, random_state=42,max_iter=10,batch_size=10000,reassignment_ratio=0).fit(samples)\n",
    "    kmeans_pred_img = kmeans_pred.labels_.reshape(rws_rgb_img.shape[1], rws_rgb_img.shape[2]).astype(rio.uint16)\n",
    "    return kmeans_pred_img\n",
    "\n",
    "def compute_mnws(img,cluster_img,bands=['B2','B3','B4','B8','B11','B12']):\n",
    "    band_names = ['B2','B3','B4','B5','B6','B7','B8','B8A','B11','B12']\n",
    "    band_pos = list(map(lambda x:band_names.index(x),bands))\n",
    "    \n",
    "    nodata = np.where(img[band_pos]==0,1,0).max(0)\n",
    "    raw_img = np.where(nodata!=1,img[band_pos],0)\n",
    "\n",
    "    mnws = []\n",
    "    labels = list(range(1,cluster_img.max()+1))\n",
    "    for label in labels:\n",
    "        \n",
    "        #calculate band stats\n",
    "        region_img = np.where(cluster_img==label,raw_img,0)\n",
    "        band_means = np.array(list(map(lambda x:np.mean(region_img[x][region_img[x]!=0],dtype=np.float32),\n",
    "                                       range(len(band_pos))))).reshape(len(band_pos),-1)\n",
    "        band_std = np.array(list(map(lambda x:np.std(region_img[x][region_img[x]!=0],dtype=np.float32),\n",
    "                                     range(len(band_pos))))).reshape(len(band_pos),-1)\n",
    "        \n",
    "        #calculate nws \n",
    "        reshaped_raw_img = raw_img.reshape(len(band_pos),-1)\n",
    "        nws = (((((reshaped_raw_img-band_means)/band_std)**2).sum(0)/len(band_pos))**0.5).reshape(img.shape[1],img.shape[2])\n",
    "        mnws.append(nws)\n",
    "        \n",
    "    mnws_img = np.array(mnws).min(0)\n",
    "    mnws_img_clip = np.array([np.where(nodata!=1,mnws_img,0)])\n",
    "    return mnws_img_clip\n",
    "\n",
    "def hot(blue_band,red_band):\n",
    "    b02 = blue_band.astype(np.float32)/10000\n",
    "    b04 = red_band.astype(np.float32)/10000\n",
    "    hot_img = b02 - (0.5*b04)\n",
    "    return hot_img"
   ]
  },
  {
   "cell_type": "code",
   "execution_count": null,
   "metadata": {},
   "outputs": [],
   "source": [
    "mosaic_dir = f'{os.path.abspath(\"..\")}images'\n",
    "mosaics = glob(mosaic_dir+\"/*.tif\")"
   ]
  },
  {
   "cell_type": "code",
   "execution_count": null,
   "metadata": {},
   "outputs": [],
   "source": [
    "%%time\n",
    "band_names = ['B2','B3','B4','B5','B6','B7','B8','B8A','B11','B12']\n",
    "\n",
    "with rio.open(mosaics[-1]) as src:\n",
    "    profile = src.profile.copy()\n",
    "    img = src.read()\n",
    "    rws_rgb_img = compute_rws(img,'RWS')[[0,1,2]]\n",
    "\n",
    "    cluster_img = compute_cluster(rws_rgb_img,k=8)\n",
    "    mnws_img = compute_mnws2(img,cluster_img)\n",
    "    \n",
    "    profile.update({'dtype':mnws_img.dtype,'nodata':0,'count':mnws_img.shape[0]})\n",
    "    with rio.open('mnws_last.tif','w',**profile) as dst:\n",
    "        dst.write(mnws_img)\n"
   ]
  },
  {
   "cell_type": "code",
   "execution_count": null,
   "metadata": {},
   "outputs": [],
   "source": []
  },
  {
   "cell_type": "code",
   "execution_count": null,
   "metadata": {},
   "outputs": [],
   "source": []
  }
 ],
 "metadata": {
  "kernelspec": {
   "display_name": "Python 3",
   "language": "python",
   "name": "python3"
  },
  "language_info": {
   "codemirror_mode": {
    "name": "ipython",
    "version": 3
   },
   "file_extension": ".py",
   "mimetype": "text/x-python",
   "name": "python",
   "nbconvert_exporter": "python",
   "pygments_lexer": "ipython3",
   "version": "3.6.10"
  }
 },
 "nbformat": 4,
 "nbformat_minor": 4
}
