{
 "cells": [
  {
   "cell_type": "code",
   "execution_count": null,
   "metadata": {},
   "outputs": [],
   "source": [
    "import os\n",
    "from glob import glob\n",
    "import rasterio as rio\n",
    "import numpy as np\n",
    "from tqdm import tqdm,tqdm_notebook\n",
    "from IPython.core.display import display, HTML\n",
    "display(HTML(\"<style>.container { width:90% !important; }</style>\"))"
   ]
  },
  {
   "cell_type": "code",
   "execution_count": null,
   "metadata": {},
   "outputs": [],
   "source": [
    "mosaic_dir = f'{os.path.abspath(\"..\")}images'\n",
    "mosaics = glob(mosaic_dir+\"/*.tif\")"
   ]
  },
  {
   "cell_type": "code",
   "execution_count": null,
   "metadata": {},
   "outputs": [],
   "source": [
    "from sklearn.cluster import MiniBatchKMeans\n",
    "from rasterio.plot import reshape_as_image\n",
    "from matplotlib.pyplot import imshow,show\n",
    "\n",
    "def compute_rws(stack_arr,rws_type):\n",
    "    np.seterr(divide='ignore', invalid='ignore')\n",
    "    \n",
    "    if rws_type == 'WIW':\n",
    "        b8a = stack_arr[7].astype(float)/10000\n",
    "        b12 = stack_arr[9].astype(float)/10000\n",
    "        rws = np.where( ((b8a<=0.1804) & (b12<=0.1131)), 1, 0)\n",
    "\n",
    "    elif rws_type == 'RWS':\n",
    "        b3= stack_arr[1].astype(float)/10000\n",
    "        b11 = stack_arr[8].astype(float)/10000\n",
    "        mndwi = (b3-b11)/(b3+b11)\n",
    "        mndwi = np.where(mndwi>0.3,1,0)\n",
    "        \n",
    "        mgrn = (stack_arr[[1,2,6]].astype(float)/10000).min(axis=0)\n",
    "        mgrn = np.where((mgrn>0) & (mgrn<0.15),1,0)\n",
    "        rws = np.where(np.array([mndwi,mgrn]).sum(0)==2,1,0)\n",
    "    \n",
    "    nodata_mask = np.where(stack_arr==0,1,0).max(0)\n",
    "    rws = np.where(nodata_mask!=1,rws,0)\n",
    "    return rws.astype(rio.uint16)\n",
    "        \n",
    "def extract_rws(stack_arr,rws,bands=['B2','B3','B4']):\n",
    "    band_names = ['B2','B3','B4','B5','B6','B7','B8','B8A','B11','B12']\n",
    "    band_pos = list(map(lambda x:band_names.index(x),bands))\n",
    "    img = stack_arr[band_pos]\n",
    "    rws_img = np.where(rws==1,img,0)\n",
    "    return rws_img\n",
    "\n",
    "def compute_cluster(rws_rgb_img,k=4):\n",
    "    samples = reshape_as_image(rws_rgb_img).reshape(-1,rws_rgb_img.shape[0])\n",
    "    kmeans_pred = MiniBatchKMeans(n_clusters=k, random_state=42,max_iter=10,batch_size=10000,reassignment_ratio=0).fit(samples)\n",
    "    kmeans_pred_img = kmeans_pred.labels_.reshape(rws_rgb_img.shape[1], rws_rgb_img.shape[2]).astype(rio.uint16)\n",
    "    return kmeans_pred_img"
   ]
  },
  {
   "cell_type": "code",
   "execution_count": null,
   "metadata": {},
   "outputs": [],
   "source": [
    "%%time\n",
    "band_names = ['B2','B3','B4','B5','B6','B7','B8','B8A','B11','B12']\n",
    "\n",
    "with rio.open(mosaics[0]) as src:\n",
    "    profile = src.profile.copy()\n",
    "    img = src.read()\n",
    "    rws = compute_rws(img,'RWS')\n",
    "    rws_rgb_img = extract_rws(img,rws)\n",
    "    cluster_img = compute_cluster(rws_rgb_img,9)\n",
    "    \n",
    "    mnws = []\n",
    "    labels = np.unique(cluster_img)[1:]\n",
    "    for label in labels:\n",
    "        region = np.where(cluster_img==label,1,0)\n",
    "        region_img = np.where(region==1,img,0)[[0,1,2,6,8,9]].reshape(6,-1)\n",
    "        band_means = np.nanmean(np.where(region_img!=0,region_img,np.nan),1).reshape(6,-1)\n",
    "        band_std = np.nanstd(np.where(region_img!=0,region_img,np.nan),1).reshape(6,-1)\n",
    "\n",
    "        raw_img = img[[0,1,2,6,8,9]].reshape(6,-1)\n",
    "\n",
    "        band_sum = np.power(( np.subtract(raw_img,band_means,dtype=np.float32) /band_std),2).sum(0) \n",
    "        nws_img = np.sqrt((band_sum/6)).reshape(region.shape[0],region.shape[1])\n",
    "        mnws.append(nws_img)\n",
    "\n",
    "\n",
    "    mnws_img = np.array(mnws).sum(0).astype(np.float32)\n",
    "    nodata_mask = np.where(img==0,1,0).max(0)\n",
    "    mnws_img_clip = np.array([np.where(nodata_mask!=1,mnws_img,0)])\n",
    "    \n",
    "    profile.update({'dtype':np.float32,'nodata':0,'count':1})\n",
    "    with rio.open('mnws.tif','w',**profile) as dst:\n",
    "        dst.write(mnws_img_clip)\n"
   ]
  },
  {
   "cell_type": "code",
   "execution_count": null,
   "metadata": {},
   "outputs": [],
   "source": []
  },
  {
   "cell_type": "code",
   "execution_count": null,
   "metadata": {},
   "outputs": [],
   "source": []
  },
  {
   "cell_type": "code",
   "execution_count": null,
   "metadata": {},
   "outputs": [],
   "source": []
  }
 ],
 "metadata": {
  "kernelspec": {
   "display_name": "Python 3",
   "language": "python",
   "name": "python3"
  },
  "language_info": {
   "codemirror_mode": {
    "name": "ipython",
    "version": 3
   },
   "file_extension": ".py",
   "mimetype": "text/x-python",
   "name": "python",
   "nbconvert_exporter": "python",
   "pygments_lexer": "ipython3",
   "version": "3.6.10"
  }
 },
 "nbformat": 4,
 "nbformat_minor": 4
}
