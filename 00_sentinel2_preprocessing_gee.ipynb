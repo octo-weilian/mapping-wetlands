{
 "cells": [
  {
   "cell_type": "markdown",
   "metadata": {},
   "source": [
    "### Notebook for preprocessing Sentinel-2 from GEE"
   ]
  },
  {
   "cell_type": "code",
   "execution_count": 1,
   "metadata": {},
   "outputs": [
    {
     "data": {
      "text/html": [
       "<style>.container { width:90% !important; }</style>"
      ],
      "text/plain": [
       "<IPython.core.display.HTML object>"
      ]
     },
     "metadata": {},
     "output_type": "display_data"
    }
   ],
   "source": [
    "#atmospheric correction module\n",
    "from Py6S import *\n",
    "from python.atmospheric import Atmospheric\n",
    "\n",
    "#other modules\n",
    "import json\n",
    "import os\n",
    "import re\n",
    "import pandas as pd\n",
    "import numpy as np\n",
    "import matplotlib.pyplot as plt\n",
    "from PIL import Image,ImageDraw,ImageFont\n",
    "import urllib.request\n",
    "from glob import glob\n",
    "import math\n",
    "import datetime\n",
    "\n",
    "\n",
    "#GEE modules\n",
    "import ee\n",
    "from geemap import *\n",
    "\n",
    "#initialize GEE \n",
    "try:\n",
    "    ee.Initialize()\n",
    "except Exception as e:\n",
    "    ee.Authenticate()\n",
    "    ee.Initialize()\n",
    "    \n",
    "#alter width notebook page   \n",
    "from IPython.core.display import display, HTML\n",
    "display(HTML(\"<style>.container { width:90% !important; }</style>\"))\n"
   ]
  },
  {
   "cell_type": "markdown",
   "metadata": {},
   "source": [
    "#### Compute Sentinel-2 mosaics"
   ]
  },
  {
   "cell_type": "code",
   "execution_count": 2,
   "metadata": {},
   "outputs": [],
   "source": [
    "#helper functions\n",
    "def create_mosaic(collection,date_list):\n",
    "    \n",
    "    def match_date(date):\n",
    "        dt = ee.Date(date).format('yyyy-MM-dd')\n",
    "        dm = ee.Date(date).format('yyyy-MM')\n",
    "        return collection.filter(ee.Filter.eq('system:time_start', date)).mosaic().set({'Date':dt,'Month':dm})\n",
    "        \n",
    "    return date_list.map(match_date)\n",
    "\n",
    "def export_frames(collection,aoi,dir_name,annot_list,bands = ['B11', 'B8', 'B3']):\n",
    "    \n",
    "    print(f'Exporting {len(annot_list)} frames...')\n",
    "    \n",
    "    args = {'dimensions': 540,'bands': bands,'gain': [0.08, 0.08, 0.08],'region': aoi}\n",
    "    url = collection.getFilmstripThumbURL(args)\n",
    "    \n",
    "    os.makedirs(dir_name,exist_ok=True)\n",
    "\n",
    "    saved_strips = urllib.request.urlretrieve(url,f'{dir_name}.png')[0]\n",
    "    \n",
    "    img_arr = np.array(Image.open(saved_strips))\n",
    "    img_stack = img_arr.reshape(len(annot_list),img_arr.shape[0]//len(annot_list),img_arr.shape[1],img_arr.shape[2])\n",
    "    \n",
    "    for i in range(len(annot_list)):\n",
    "        img_pil = Image.fromarray(img_stack[i])\n",
    "        ImageDraw.Draw(img_pil).text((0, 0),annot_list[i],font = ImageFont.truetype(\"arial.ttf\", 20),fill=(124,252,0))\n",
    "        annot= annot_list[i]\n",
    "        fn = f\"{dir_name}/{dir_name.split('/')[-1]}_{annot}.png\"  \n",
    "        img_pil.save(fn)\n",
    "        \n",
    "    os.remove(saved_strips)\n",
    "    print(f'{len(annot_list)} frames exported in {dir_name}')\n",
    "    \n",
    "def plot_rgb(img,text,bands = ['B4', 'B3', 'B2']):\n",
    "    viz_rgb = {'bands': bands,'gain': [0.1, 0.1, 0.1],'scale':90}\n",
    "    Map.addLayer(img, viz_rgb, text+' RGB')"
   ]
  },
  {
   "cell_type": "code",
   "execution_count": 3,
   "metadata": {
    "scrolled": false
   },
   "outputs": [
    {
     "data": {
      "application/vnd.jupyter.widget-view+json": {
       "model_id": "2f691dd0624d4a2686bc4943ff722b16",
       "version_major": 2,
       "version_minor": 0
      },
      "text/plain": [
       "Map(center=[-27.93186, 32.48897], controls=(ZoomControl(options=['position', 'zoom_in_text', 'zoom_in_title', …"
      ]
     },
     "metadata": {},
     "output_type": "display_data"
    }
   ],
   "source": [
    "#study area\n",
    "study_area = './data/boundaries/ramsar_stlucia_buffer.geojson'\n",
    "\n",
    "with open(study_area) as f:\n",
    "    coord = json.load(f)['features'][0]['geometry']['coordinates'][0]\n",
    "    geom = ee.Geometry.Polygon(coord)\n",
    "\n",
    "Map = geemap.Map(center=[-27.93186,32.48897],zoom=9)\n",
    "Map.addLayer(ee_object=geom, vis_params={'color':'red'}, name=\"Lesser Isimangaliso Wetland Park\")\n",
    "Map"
   ]
  },
  {
   "cell_type": "code",
   "execution_count": null,
   "metadata": {},
   "outputs": [],
   "source": [
    "def set_dates(img):\n",
    "    dt = ee.Date(img.get('system:time_start')).format('yyyy-MM-dd')\n",
    "    return img.set({'Date':dt})\n",
    "\n",
    "band_names = ['B1','B2','B3','B4','B5','B6','B7']\n",
    "l8_col = ee.ImageCollection(\"LANDSAT/LC08/C01/T1_SR\") \\\n",
    "    .filterBounds(geom).filterDate('2017-01-01','2017-12-31').map(lambda x:x.clip(geom)).select(band_names).map(set_dates)\n",
    "\n",
    "l8_list = l8_col.toList(l8_col.size())"
   ]
  },
  {
   "cell_type": "code",
   "execution_count": null,
   "metadata": {
    "scrolled": false
   },
   "outputs": [],
   "source": [
    "def create_mosaic_l8(collection,date_list):\n",
    "    \n",
    "    def match_date(date):\n",
    "        return collection.filter(ee.Filter.eq('Date', date)).mosaic().set({'Date':date})\n",
    "        \n",
    "    return date_list.map(match_date)\n",
    "    \n",
    "#create mosaics\n",
    "s8_mos = create_mosaic_l8(l8_col,l8_col.aggregate_array('Date').distinct())\n",
    "s8_mos_col = ee.ImageCollection(s8_mos).sort('Date')\n"
   ]
  },
  {
   "cell_type": "code",
   "execution_count": null,
   "metadata": {},
   "outputs": [],
   "source": [
    "l8_dates = s8_mos_col.aggregate_array('Date').getInfo()\n",
    "visParams = {'bands': ['B4', 'B3', 'B2'],'min': 0,'max': 3000,'gamma': 1.4,}\n",
    "for i in range(len(l8_dates)):\n",
    "    Map.addLayer(ee.Image(s8_mos.get(i)), visParams,l8_dates[i])"
   ]
  },
  {
   "cell_type": "code",
   "execution_count": null,
   "metadata": {
    "scrolled": true
   },
   "outputs": [],
   "source": []
  },
  {
   "cell_type": "code",
   "execution_count": null,
   "metadata": {
    "scrolled": false
   },
   "outputs": [],
   "source": []
  },
  {
   "cell_type": "code",
   "execution_count": null,
   "metadata": {},
   "outputs": [],
   "source": []
  },
  {
   "cell_type": "code",
   "execution_count": null,
   "metadata": {
    "scrolled": true
   },
   "outputs": [],
   "source": [
    "# def get_values(n):\n",
    "#     return ee.Number(ee.Image(n).reduceRegion(reducer= ee.Reducer.mean(),geometry=geom,scale=5000,maxPixels= 1e6).get('precipitation'))\n",
    "\n",
    "# chirp_col = ee.ImageCollection(\"UCSB-CHG/CHIRPS/DAILY\").filterBounds(geom).filterDate('2017-01-01','2017-12-31').select('precipitation').map(lambda x:x.clip(geom))\n",
    "# chip_col_list = chirp_col.toList(chirp_col.size())\n",
    "# rain_values = chip_col_list.map(get_values).getInfo()\n",
    "# dates = chirp_col.aggregate_array('system:index').getInfo()\n",
    "# rain_df = pd.DataFrame([np.array(dates),np.array(rain_values)]).T\n",
    "# rain_df.columns = ['Date','mm']\n",
    "# rain_df['Date'] = pd.to_datetime(rain_df['Date'].astype(str))\n",
    "# rain_df['mm'] = rain_df['mm'].astype(float)\n",
    "\n",
    "# rain_df.to_csv('./data/rain_data.csv')"
   ]
  },
  {
   "cell_type": "code",
   "execution_count": 4,
   "metadata": {},
   "outputs": [
    {
     "name": "stdout",
     "output_type": "stream",
     "text": [
      "68  - 36JVQ images\n",
      "68  - 36JVP images\n"
     ]
    }
   ],
   "source": [
    "#get Sentinel-2 Level-1C collection for 2017 with less than 50% cloud cover\n",
    "\n",
    "cl_pct = 50\n",
    "\n",
    "band_names = ['B2','B3','B4','B5','B6','B7','B8','B8A','B10','B11','B12']\n",
    "\n",
    "s2_col = ee.ImageCollection(\"COPERNICUS/S2\") \\\n",
    "    .filterBounds(geom).filterDate('2017-01-01','2017-12-31') \\\n",
    "    .filter(ee.Filter.inList('MGRS_TILE', ['36JVP','36JVQ'])) \\\n",
    "    .filter(ee.Filter.lte('CLOUDY_PIXEL_PERCENTAGE', cl_pct)).map(lambda x:x.clip(geom)).select(band_names)\n",
    "\n",
    "s2_col_list = s2_col.toList(s2_col.size())\n",
    "\n",
    "print(s2_col.filter(ee.Filter(ee.Filter.eq('MGRS_TILE', '36JVQ'))).size().getInfo(),' - 36JVQ images')\n",
    "print(s2_col.filter(ee.Filter(ee.Filter.eq('MGRS_TILE', '36JVP'))).size().getInfo(),' - 36JVP images')\n"
   ]
  },
  {
   "cell_type": "code",
   "execution_count": 5,
   "metadata": {
    "scrolled": true
   },
   "outputs": [
    {
     "name": "stdout",
     "output_type": "stream",
     "text": [
      "Nr. mosaics:  62\n"
     ]
    }
   ],
   "source": [
    "#get unique dates\n",
    "un_dates = s2_col.aggregate_array('system:time_start').distinct()\n",
    "\n",
    "#get number of images with respect to matching dates\n",
    "get_nr_match = lambda x: (s2_col.filter(ee.Filter.eq('system:time_start', x)).size(),x)\n",
    "matches = un_dates.map(get_nr_match).getInfo()\n",
    "\n",
    "#filter dates that have two images\n",
    "un_dates_fil = ee.List([b for a,b in matches if a==2])\n",
    "\n",
    "#create mosaics\n",
    "s2_mos = create_mosaic(s2_col,un_dates_fil)\n",
    "s2_mos_col = ee.ImageCollection(s2_mos).sort('Date')\n",
    "\n",
    "print('Nr. mosaics: ',s2_mos_col.size().getInfo())"
   ]
  },
  {
   "cell_type": "code",
   "execution_count": null,
   "metadata": {},
   "outputs": [],
   "source": []
  },
  {
   "cell_type": "code",
   "execution_count": null,
   "metadata": {
    "scrolled": false
   },
   "outputs": [],
   "source": [
    "# # #export mosaics as PNGs for further visual inspection\n",
    "# dir_name = './data/ts_animation/2017_cl50'\n",
    "\n",
    "# annotations = list(map(lambda x:x.replace('-',''),s2_mos_col.aggregate_array('Date').getInfo()))\n",
    "\n",
    "# export_frames(s2_mos_col,\n",
    "#               geom,\n",
    "#               dir_name,\n",
    "#               annotations)"
   ]
  },
  {
   "cell_type": "code",
   "execution_count": 6,
   "metadata": {},
   "outputs": [
    {
     "name": "stdout",
     "output_type": "stream",
     "text": [
      "Nr. selected mosaics:  45\n"
     ]
    }
   ],
   "source": [
    "#select best mosaics \n",
    "selected_dir_name = './data/ts_animation/2017_cl50_selected'\n",
    "selected_dates = [re.findall(r\"(\\d{8})\",os.path.basename(path))[0] for path in glob.glob(f'{selected_dir_name}/*.png')]\n",
    "date_format = pd.to_datetime(selected_dates).astype(str).tolist()\n",
    "\n",
    "s2_toa_col = s2_mos_col.filter(ee.Filter.inList('Date',date_format))\n",
    "print('Nr. selected mosaics: ',s2_toa_col.size().getInfo())"
   ]
  },
  {
   "cell_type": "code",
   "execution_count": 7,
   "metadata": {
    "scrolled": false
   },
   "outputs": [],
   "source": [
    "dates_df = pd.DataFrame(pd.to_datetime(date_format))\n",
    "dates_fr = pd.DataFrame(np.unique(dates_df.iloc[:,0].dt.month,return_counts=True)).T\n",
    "dates_fr.columns = ['month','freq']\n",
    "dates_fr['month'] = dates_df.iloc[:,0].dt.strftime('%b').unique()\n",
    "dates_fr.sort_values(by='month')\n",
    "dates_fr = dates_fr.set_index('month')"
   ]
  },
  {
   "cell_type": "code",
   "execution_count": 9,
   "metadata": {
    "scrolled": false
   },
   "outputs": [
    {
     "data": {
      "text/html": [
       "<div>\n",
       "<style scoped>\n",
       "    .dataframe tbody tr th:only-of-type {\n",
       "        vertical-align: middle;\n",
       "    }\n",
       "\n",
       "    .dataframe tbody tr th {\n",
       "        vertical-align: top;\n",
       "    }\n",
       "\n",
       "    .dataframe thead th {\n",
       "        text-align: right;\n",
       "    }\n",
       "</style>\n",
       "<table border=\"1\" class=\"dataframe\">\n",
       "  <thead>\n",
       "    <tr style=\"text-align: right;\">\n",
       "      <th>month</th>\n",
       "      <th>Jan</th>\n",
       "      <th>Feb</th>\n",
       "      <th>Mar</th>\n",
       "      <th>Apr</th>\n",
       "      <th>May</th>\n",
       "      <th>Jun</th>\n",
       "      <th>Jul</th>\n",
       "      <th>Aug</th>\n",
       "      <th>Sep</th>\n",
       "      <th>Oct</th>\n",
       "      <th>Nov</th>\n",
       "      <th>Dec</th>\n",
       "    </tr>\n",
       "  </thead>\n",
       "  <tbody>\n",
       "    <tr>\n",
       "      <th>freq</th>\n",
       "      <td>2</td>\n",
       "      <td>3</td>\n",
       "      <td>4</td>\n",
       "      <td>2</td>\n",
       "      <td>3</td>\n",
       "      <td>5</td>\n",
       "      <td>8</td>\n",
       "      <td>7</td>\n",
       "      <td>4</td>\n",
       "      <td>3</td>\n",
       "      <td>3</td>\n",
       "      <td>1</td>\n",
       "    </tr>\n",
       "  </tbody>\n",
       "</table>\n",
       "</div>"
      ],
      "text/plain": [
       "month  Jan  Feb  Mar  Apr  May  Jun  Jul  Aug  Sep  Oct  Nov  Dec\n",
       "freq     2    3    4    2    3    5    8    7    4    3    3    1"
      ]
     },
     "execution_count": 9,
     "metadata": {},
     "output_type": "execute_result"
    }
   ],
   "source": [
    "dates_fr.T"
   ]
  },
  {
   "cell_type": "code",
   "execution_count": null,
   "metadata": {},
   "outputs": [],
   "source": []
  },
  {
   "cell_type": "markdown",
   "metadata": {},
   "source": [
    "#### Collect solar and sensor metadata and atmospheric constituent for 6S radiative-transfer model"
   ]
  },
  {
   "cell_type": "code",
   "execution_count": null,
   "metadata": {},
   "outputs": [],
   "source": [
    "# get solar and sensor angle metadata for 6S correction \n",
    "\n",
    "#solar metadata\n",
    "raw_dates = s2_col.aggregate_array('system:time_start').map(lambda x:ee.Date(x).format('yyyy-MM-dd')).getInfo()\n",
    "sun_ele = s2_col.aggregate_array('MEAN_SOLAR_ZENITH_ANGLE').getInfo()\n",
    "sun_azi = s2_col.aggregate_array('MEAN_SOLAR_AZIMUTH_ANGLE').getInfo()\n",
    "sun_data = np.array( [sun_ele,sun_azi] )\n",
    "\n",
    "sun_df = pd.DataFrame(sun_data).T\n",
    "sun_df.columns = ['MEAN_SOLAR_ZENITH_ANGLE','MEAN_SOLAR_AZIMUTH_ANGLE']\n",
    "sun_df['Date'] = pd.to_datetime(raw_dates)\n",
    "\n",
    "#sensor and  Extra-terrestrial solar irradiation (ESUN) metadata\n",
    "band_names = ['B2','B3','B4','B5','B6','B7','B8','B8A','B11','B12']\n",
    "esun_data = {}\n",
    "view_ele_data = {}\n",
    "view_azi_data = {}\n",
    "for b in band_names:\n",
    "    esun_data[f'SOLAR_IRRADIANCE_{b}'] = s2_col.aggregate_array(f'SOLAR_IRRADIANCE_{b}').getInfo()\n",
    "    view_ele_data[f'MEAN_INCIDENCE_ZENITH_ANGLE_{b}'] = s2_col.aggregate_array(f'MEAN_INCIDENCE_ZENITH_ANGLE_{b}').getInfo()   \n",
    "    view_azi_data [f'MEAN_INCIDENCE_AZIMUTH_ANGLE_{b}'] = s2_col.aggregate_array( f'MEAN_INCIDENCE_AZIMUTH_ANGLE_{b}').getInfo()\n",
    "\n",
    "#compute mean sensor viewing angles over all bands (variability in viewing angles is small, hence presumeably can be neglected)\n",
    "view_ele_df = pd.DataFrame(view_ele_data).mean(1).rename('MEAN_INCIDENCE_ZENITH_ANGLE')\n",
    "view_azi_df = pd.DataFrame(view_azi_data).mean(1).rename('MEAN_INCIDENCE_AZIMUTH_ANGLE')\n",
    "esun_df = pd.DataFrame(esun_data)\n",
    "\n",
    "#export to csv\n",
    "sun_view_df = pd.concat([sun_df,view_ele_df,view_azi_df,esun_df],axis=1)\n",
    "sun_view_df  = sun_view_df.groupby(['Date'],as_index=False).mean()\n",
    "sun_view_df = sun_view_df[sun_view_df['Date'].isin(date_format)].reset_index(drop=True)\n",
    "\n",
    "sun_view_df.to_csv('./data/sun_data.csv')"
   ]
  },
  {
   "cell_type": "code",
   "execution_count": null,
   "metadata": {},
   "outputs": [],
   "source": [
    "#precompute atmospheric constituents for study area and each scene\n",
    "#water vapour GEE data source: NCEP/NCAR Reanalysis Data, Water vapor ('NCEP_RE/surface_wv')\n",
    "#ozone GEE data source: TOMS and OMI Merged Ozone Data ('TOMS/MERGED')\n",
    "#aerosol GEE data source: MOD08_M3.006 Terra Atmosphere Monthly Global Product ('MODIS/006/MOD08_M3')\n",
    "\n",
    "#open sun data\n",
    "sun_data_df = pd.read_csv('./data/sun_data.csv', index_col=0)\n",
    "dates = ee.List(sun_data_df['Date'].to_list())\n",
    "point = ee.Geometry.Point(-27.93186,32.48897)\n",
    "\n",
    "#get water vapour, ozone and aerosol optical thickness \n",
    "sun_data_df['h2o'] = dates.map(lambda x: Atmospheric.water(point,ee.Date(x))).getInfo()\n",
    "sun_data_df['o3'] = dates.map(lambda x: Atmospheric.ozone(point,ee.Date(x))).getInfo()\n",
    "sun_data_df['aot'] = dates.map(lambda x: Atmospheric.aerosol(point,ee.Date(x))).getInfo()\n",
    "\n",
    "sun_data_df.to_csv('./data/sun_data.csv')\n"
   ]
  },
  {
   "cell_type": "markdown",
   "metadata": {},
   "source": [
    "#### Perform atmospheric correction with 6S radiative-transfer model\n",
    "\n",
    "Reflected sunlight can be described as follows (wavelength dependence is implied):\n",
    "\n",
    "$ L = \\tau\\rho(E_{dir} + E_{dif})/\\pi + L_p$\n",
    "\n",
    "where L is at-sensor radiance, $\\tau$ is transmissivity, $\\rho$ is surface reflectance, $E_{dir}$ is direct solar irradiance, $E_{dif}$ is diffuse solar irradiance and $L_p$ is path radiance. There are five unknowns in this equation, 4 atmospheric terms ($\\tau$, $E_{dir}$, $E_{dif}$ and $L_p$) and surface reflectance. The 6S radiative transfer code is used to solve for the atmospheric terms, allowing us to solve for surface reflectance.\n",
    "\n",
    "$ \\rho = \\pi(L - L_p) / \\tau(E_{dir} + E_{dif}) $\n",
    "\n",
    "Cite: Sam Murphy (Jan 25, 2018)  \n",
    "Source : https://github.com/samsammurphy/gee-atmcorr-S2/blob/master/jupyer_notebooks/sentinel2_atmospheric_correction.ipynb"
   ]
  },
  {
   "cell_type": "code",
   "execution_count": null,
   "metadata": {
    "scrolled": true
   },
   "outputs": [],
   "source": [
    "#helper functions\n",
    "\n",
    "def spectralResponseFunction(bandname):\n",
    "    \"\"\"\n",
    "    Extract spectral response function for given band name\n",
    "    \"\"\"\n",
    "\n",
    "    bandSelect = {\n",
    "        'B1':PredefinedWavelengths.S2A_MSI_01,\n",
    "        'B2':PredefinedWavelengths.S2A_MSI_02,\n",
    "        'B3':PredefinedWavelengths.S2A_MSI_03,\n",
    "        'B4':PredefinedWavelengths.S2A_MSI_04,\n",
    "        'B5':PredefinedWavelengths.S2A_MSI_05,\n",
    "        'B6':PredefinedWavelengths.S2A_MSI_06,\n",
    "        'B7':PredefinedWavelengths.S2A_MSI_07,\n",
    "        'B8':PredefinedWavelengths.S2A_MSI_08,\n",
    "        'B8A':PredefinedWavelengths.S2A_MSI_8A,\n",
    "        'B9':PredefinedWavelengths.S2A_MSI_09,\n",
    "        'B10':PredefinedWavelengths.S2A_MSI_10,\n",
    "        'B11':PredefinedWavelengths.S2A_MSI_11,\n",
    "        'B12':PredefinedWavelengths.S2A_MSI_12,\n",
    "        }\n",
    "    \n",
    "    return Wavelength(bandSelect[bandname])\n",
    "\n",
    "def toa_to_rad(bandname,ESUN,solar_z,toa):\n",
    "    \"\"\"\n",
    "    Converts top of atmosphere reflectance to at-sensor radiance\n",
    "    \"\"\"\n",
    "    \n",
    "    # solar exoatmospheric spectral irradiance\n",
    "    solar_angle_correction = math.cos(math.radians(solar_z))\n",
    "    \n",
    "    # Earth-Sun distance (from day of year)\n",
    "    doy = date.timetuple().tm_yday\n",
    "    d = 1 - 0.01672 * math.cos(0.9856 * (doy-4))# http://physics.stackexchange.com/questions/177949/earth-sun-distance-on-a-given-day-of-the-year\n",
    "   \n",
    "    # conversion factor\n",
    "    multiplier = ESUN*solar_angle_correction/(math.pi*d**2)\n",
    "\n",
    "    # at-sensor radiance\n",
    "    rad = toa.select(bandname).multiply(multiplier)\n",
    "    \n",
    "    return rad\n",
    "\n",
    "def surface_reflectance(bandname,rad):\n",
    "    \"\"\"\n",
    "    Calculate surface reflectance from at-sensor radiance given waveband name\n",
    "    \"\"\"\n",
    "    \n",
    "    # run 6S for this waveband\n",
    "    s.wavelength = spectralResponseFunction(bandname)\n",
    "    s.run()\n",
    "    \n",
    "    # extract 6S outputs\n",
    "    Edir = s.outputs.direct_solar_irradiance             #direct solar irradiance\n",
    "    Edif = s.outputs.diffuse_solar_irradiance            #diffuse solar irradiance\n",
    "    Lp   = s.outputs.atmospheric_intrinsic_radiance      #path radiance\n",
    "    absorb  = s.outputs.trans['global_gas'].upward       #absorption transmissivity\n",
    "    scatter = s.outputs.trans['total_scattering'].upward #scattering transmissivity\n",
    "    tau2 = absorb*scatter                                #total transmissivity\n",
    "    \n",
    "    # radiance to surface reflectance\n",
    "    ref = rad.subtract(Lp).multiply(math.pi).divide(tau2*(Edir+Edif))\n",
    "    \n",
    "    return ref"
   ]
  },
  {
   "cell_type": "code",
   "execution_count": 10,
   "metadata": {},
   "outputs": [],
   "source": [
    "#compute surface reflectance for these bands \n",
    "band_names = ['B2','B3','B4','B5','B6','B7','B8','B8A','B10','B11','B12']\n",
    "\n",
    "#get study area elevation (mean) in km\n",
    "srtm_30m = ee.Image(\"USGS/SRTMGL1_003\")\n",
    "km = srtm_30m.reduceRegion(reducer = ee.Reducer.mean(),geometry =geom).get('elevation').getInfo()/1000\n",
    "\n",
    "#open sun and atmospheric data\n",
    "sun_data_df = pd.read_csv('./data/sun_data.csv', index_col=0)\n",
    "sun_data_df['Date'] = pd.to_datetime(sun_data_df['Date'])\n"
   ]
  },
  {
   "cell_type": "code",
   "execution_count": 121,
   "metadata": {},
   "outputs": [],
   "source": [
    "sun_data_df['Date_format'] = sun_data_df['Date'].dt.strftime('%d-%b')\n",
    "sun_data_df = sun_data_df.set_index('Date_format')"
   ]
  },
  {
   "cell_type": "code",
   "execution_count": 12,
   "metadata": {
    "scrolled": true
   },
   "outputs": [
    {
     "data": {
      "text/plain": [
       "0.025"
      ]
     },
     "execution_count": 12,
     "metadata": {},
     "output_type": "execute_result"
    }
   ],
   "source": [
    "round(km,3)"
   ]
  },
  {
   "cell_type": "code",
   "execution_count": 13,
   "metadata": {},
   "outputs": [
    {
     "name": "stdout",
     "output_type": "stream",
     "text": [
      "Wall time: 0 ns\n"
     ]
    }
   ],
   "source": [
    "%%time\n",
    "\n",
    "#collect surface reflectance images\n",
    "s2_sr_col = []\n",
    "\n",
    "#instantiate 6S object\n",
    "s = SixS()\n",
    "\n",
    "# specifiy Earth-Sun-satellite geometry constants\n",
    "s.geometry = Geometry.User()                     \n",
    "s.altitudes.set_sensor_satellite_level()\n",
    "s.altitudes.set_target_custom_altitude(km)\n",
    "s.aero_profile = AeroProfile.Maritime              #study area is next to the ocean, hence a maritime climate is expected to be dominant\n",
    "\n",
    "for i in range(len(sun_data_df)):\n",
    "    \n",
    "    #get values from df\n",
    "    date = sun_data_df.loc[i,'Date']\n",
    "    h2o,o3,aot = sun_data_df.loc[i,['h2o','o3','aot']]\n",
    "    solar_z,solar_a = sun_data_df.loc[i,['MEAN_SOLAR_ZENITH_ANGLE','MEAN_SOLAR_AZIMUTH_ANGLE']]\n",
    "    view_z,view_a = sun_data_df.loc[i,['MEAN_INCIDENCE_ZENITH_ANGLE','MEAN_INCIDENCE_AZIMUTH_ANGLE']]\n",
    "    \n",
    "    #specifiy atmospheric constiutents \n",
    "    s.atmos_profile = AtmosProfile.UserWaterAndOzone(h2o,o3)\n",
    "    s.aot550 = aot\n",
    "\n",
    "    # specify Earth-Sun-satellite geometry variables\n",
    "    s.geometry.view_z = view_z                 # sensor viewing zenith angle\n",
    "    s.geometry.view_a = view_a                 # sensor viewing azimuth angle\n",
    "    s.geometry.solar_z = solar_z               # solar zenith angle\n",
    "    s.geometry.solar_a = solar_a               # solar azimuth angle\n",
    "    s.geometry.month = date.month              # month  used for Earth-Sun distance\n",
    "    s.geometry.day = date.day                  # day used for Earth-Sun distance\n",
    "    \n",
    "    #get TOA image (scaled to 0-1)\n",
    "    toa = s2_toa_col.select(band_names).filter(ee.Filter.eq('Date',str(date.date()))).first().divide(10000)\n",
    "    toa_b10 = s2_toa_col.select('B10').filter(ee.Filter.eq('Date',str(date.date()))).first().divide(10000)\n",
    "    \n",
    "    #compute SR for each band\n",
    "    base_img = []\n",
    "    for b in band_names:\n",
    "        if b!='B10':\n",
    "            esun = sun_data_df.loc[i,f'SOLAR_IRRADIANCE_{b}']\n",
    "            rad = toa_to_rad(b,esun,solar_z,toa)\n",
    "            b_sr = surface_reflectance(b,rad)\n",
    "            base_img.append(b_sr)\n",
    "        else:\n",
    "            base_img.append(toa_b10)\n",
    "            \n",
    "    base_img = ee.Image(base_img).set({'Date':str(date.date()),'Month': date.date().strftime('%Y-%m')  })\n",
    "    s2_sr_col.append(base_img)\n",
    "\n",
    "#datatype is float with values between 0-1 --> rescale to int16 if necessary (with scale factor 10000)\n",
    "s2_sr_col = ee.ImageCollection(s2_sr_col)\n"
   ]
  },
  {
   "cell_type": "markdown",
   "metadata": {},
   "source": [
    "#### Compare TOA and SR results"
   ]
  },
  {
   "cell_type": "code",
   "execution_count": null,
   "metadata": {},
   "outputs": [],
   "source": [
    "#helper function\n",
    "def sample_ts(img_col,feat_col,ref_type):\n",
    "    band_names = ['B2','B3','B4','B5','B6','B7','B8','B8A','B11','B12']\n",
    "    img_col_list = img_col.toList(img_col.size())\n",
    "    labels = feat_col.aggregate_array('desc').getInfo()\n",
    "\n",
    "    df = []\n",
    "    for label in labels:\n",
    "        feat = ee.Feature(feat_col.filter(ee.Filter.eq('desc',label)).first())\n",
    "        s2_median = []\n",
    "\n",
    "        for band in band_names:\n",
    "            extract_values = lambda x: ee.Image(x).sampleRegions(feat,scale= 90).first().get(band)\n",
    "            band_median = img_col_list.map(extract_values).reduce('median').getInfo()\n",
    "            s2_median.append(band_median) \n",
    "\n",
    "        data = pd.DataFrame(dict(zip(band_names,s2_median)),index=[f'{ref_type} {label}'])\n",
    "        df.append(data)\n",
    "\n",
    "    return pd.concat(df,0)"
   ]
  },
  {
   "cell_type": "code",
   "execution_count": null,
   "metadata": {},
   "outputs": [],
   "source": [
    "%%time\n",
    "\n",
    "sample = './data/sample/ts_atmocorr.geojson'\n",
    "\n",
    "with open(sample) as sample_f:\n",
    "    feat_col = ee.FeatureCollection(json.load(sample_f)['features'])\n",
    "\n",
    "    toa_df = sample_ts(s2_toa_col,feat_col,'TOA')/10000\n",
    "    sr_df = sample_ts(s2_sr_col,feat_col,'BOA')\n",
    "    toa_sr_df = pd.concat([toa_df.T,sr_df.T],1)\n",
    "\n",
    "    toa_sr_df.to_csv('./data/toa_boa_median_data.csv')"
   ]
  },
  {
   "cell_type": "code",
   "execution_count": 50,
   "metadata": {
    "scrolled": false
   },
   "outputs": [
    {
     "data": {
      "image/png": "[encoded data removed]",
      "text/plain": [
       "<Figure size 864x432 with 1 Axes>"
      ]
     },
     "metadata": {
      "needs_background": "light"
     },
     "output_type": "display_data"
    }
   ],
   "source": [
    "toa_sr_df = pd.read_csv('./data/toa_boa_median_data.csv',index_col=[0])\n",
    "toa_sr_df.columns = ['TOA water','TOA vegetation','SR water','SR vegetation']\n",
    "# nm = ['490','560','665','705','750','783','842','865','1910','2190']\n",
    "\n",
    "# toa_sr_df.index = [f'{a}\\n{b} nm' for a,b in zip(toa_sr_df.index,nm)]\n",
    "\n",
    "ax = toa_sr_df.plot.line(color=['blue','green','blue','green'],\n",
    "                                                  figsize=(12,6),\n",
    "                                                  style=['--','--','-','-'],\n",
    "                                                  xticks=range(len(toa_sr_df)),fontsize=14)\n",
    "\n",
    "ax.set_xlabel('Bands',fontsize=20)\n",
    "ax.set_ylabel('Reflectance',fontsize=20);\n",
    "# ax.set_title('Comparison between TOA and Surface Reflectances for \\n water (Wa) and vegetation (Ve) samples \\n(median from time-series image collection)');\n",
    "\n"
   ]
  },
  {
   "cell_type": "code",
   "execution_count": null,
   "metadata": {},
   "outputs": [],
   "source": []
  },
  {
   "cell_type": "markdown",
   "metadata": {},
   "source": [
    "##### Export data"
   ]
  },
  {
   "cell_type": "code",
   "execution_count": null,
   "metadata": {},
   "outputs": [],
   "source": [
    "#export surface reflectance\n",
    "\n",
    "aoi = ee_to_geojson(geom)['coordinates'][0]\n",
    "\n",
    "#uncomment for batch selection\n",
    "# batch_1 = s2_sr_col.filter(ee.Filter.lt('Date','2017-07-20'))\n",
    "batch_1 = s2_sr_col.filter(ee.Filter.gte('Date','2017-07-20'))\n",
    "\n",
    "mask = ee.Image.constant(1).clip(geom).mask()\n",
    "\n",
    "dates = batch_1.aggregate_array('Date').getInfo()\n",
    "\n",
    "for i in range(len(dates)):\n",
    "    file_name = f\"mosaic_{ dates[i].replace('-','')}\"\n",
    "    \n",
    "    data = batch_1.filter(ee.Filter.eq('Date', dates[i])).first().multiply(10000).toInt16().updateMask(mask).unmask(9999)\n",
    "\n",
    "    task = ee.batch.Export.image.toDrive(data, \n",
    "                                         description='mosaic',\n",
    "                                         folder='GEE_output',\n",
    "                                         fileNamePrefix=file_name,\n",
    "                                         crs='EPSG:32736',\n",
    "                                         scale=10,\n",
    "                                         maxPixels=1e8,\n",
    "                                         fileFormat='GeoTIFF',\n",
    "                                         skipEmptyTiles=True,\n",
    "                                         region=aoi)\n",
    "    task.start()"
   ]
  },
  {
   "cell_type": "code",
   "execution_count": null,
   "metadata": {},
   "outputs": [],
   "source": [
    "#compute monthly median composites\n",
    "study_area = './data/boundaries/ramsar_stlucia_buffer_datamask.geojson'\n",
    "band_names = ['B2','B3','B4','B8','B11','B12']\n",
    "with open(study_area) as f:\n",
    "    coord = json.load(f)['features'][0]['geometry']['coordinates'][0]\n",
    "    geom = ee.Geometry.Polygon(coord)\n",
    "    \n",
    "un_months = s2_sr_col.aggregate_array('Month').distinct().getInfo()\n",
    "\n",
    "aoi = ee_to_geojson(geom)['coordinates'][0]\n",
    "mask = ee.Image.constant(1).clip(geom).mask()\n",
    "\n",
    "for i in range(len(un_months)):\n",
    "    month = un_months[i]\n",
    "\n",
    "    data = s2_sr_col.filter(ee.Filter.eq('Month',month)).map(lambda x:x.multiply(10000).toInt16()).median().set({'Month':month})\n",
    "    data = data.select(band_names)\n",
    "    task = ee.batch.Export.image.toDrive(data, \n",
    "                                     description='month_composite',\n",
    "                                     folder='GEE_output',\n",
    "                                     fileNamePrefix=f\"mosaic_{month.replace('-','')}\",\n",
    "                                     crs='EPSG:32736',\n",
    "                                     scale=10,\n",
    "                                     maxPixels=1e8,\n",
    "                                     fileFormat='GeoTIFF',\n",
    "                                     skipEmptyTiles=True,\n",
    "                                     region=aoi)\n",
    "    task.start()"
   ]
  },
  {
   "cell_type": "code",
   "execution_count": null,
   "metadata": {},
   "outputs": [],
   "source": []
  },
  {
   "cell_type": "code",
   "execution_count": null,
   "metadata": {},
   "outputs": [],
   "source": []
  },
  {
   "cell_type": "code",
   "execution_count": 22,
   "metadata": {},
   "outputs": [
    {
     "data": {
      "text/plain": [
       "-1"
      ]
     },
     "execution_count": 22,
     "metadata": {},
     "output_type": "execute_result"
    }
   ],
   "source": []
  },
  {
   "cell_type": "code",
   "execution_count": null,
   "metadata": {
    "scrolled": false
   },
   "outputs": [],
   "source": [
    "#compute selected median composite\n",
    "\n",
    "aoi = ee_to_geojson(geom)['coordinates'][0]\n",
    "mask = ee.Image.constant(1).clip(geom).mask()\n",
    "\n",
    "selected_dates_cloud =  ['2017-01-06','2017-02-25','2017-03-27','2017-04-16','2017-05-16','2017-06-15',\n",
    "                             '2017-07-05','2017-08-24','2017-09-08','2017-10-23','2017-11-17','2017-12-17']\n",
    "year_composite = s2_sr_col.filter(ee.Filter.inList('Date',selected_dates_cloud)).map(lambda x:x.multiply(10000).toInt16().updateMask(mask).unmask(9999)).median()\n",
    "\n",
    "task = ee.batch.Export.image.toDrive(year_composite , \n",
    "                                     description='composite',\n",
    "                                     folder='GEE_output',\n",
    "                                     fileNamePrefix='year_composite',\n",
    "                                     crs='EPSG:32736',\n",
    "                                     scale=10,\n",
    "                                     maxPixels=1e8,\n",
    "                                     fileFormat='GeoTIFF',\n",
    "                                     skipEmptyTiles=True,\n",
    "                                     region=aoi)\n",
    "task.start()"
   ]
  },
  {
   "cell_type": "code",
   "execution_count": null,
   "metadata": {},
   "outputs": [],
   "source": [
    "#check export status every 5 minutes\n",
    "import time\n",
    "\n",
    "starttime = time.time()\n",
    "state = True\n",
    "while state:\n",
    "    s = task.status()['state']\n",
    "    print(s)\n",
    "    if s=='RUNNING' or s=='READY':\n",
    "        time.sleep(60.0*5 - ((time.time() - starttime) % 60.0*5))\n",
    "\n",
    "    else:\n",
    "        state=False"
   ]
  },
  {
   "cell_type": "markdown",
   "metadata": {},
   "source": [
    "#### Export JRC GSW "
   ]
  },
  {
   "cell_type": "code",
   "execution_count": null,
   "metadata": {},
   "outputs": [],
   "source": [
    "aoi = ee_to_geojson(geom)['coordinates'][0]\n",
    "\n",
    "jrc_gsw_s = ee.ImageCollection(\"JRC/GSW1_1/YearlyHistory\").filter(ee.Filter.eq('year',2017)).first().clip(geom)\n",
    "\n",
    "task = ee.batch.Export.image.toDrive(jrc_gsw_s , \n",
    "                                     description='JRC_year',\n",
    "                                     folder='GEE_output',\n",
    "                                     fileNamePrefix='YearlyHistory_2017',\n",
    "                                     crs='EPSG:32736',\n",
    "                                     scale=10,\n",
    "                                     maxPixels=1e8,\n",
    "                                     fileFormat='GeoTIFF',\n",
    "                                     skipEmptyTiles=True,\n",
    "                                     region=aoi)\n",
    "task.start()"
   ]
  }
 ],
 "metadata": {
  "kernelspec": {
   "display_name": "Python 3",
   "language": "python",
   "name": "python3"
  },
  "language_info": {
   "codemirror_mode": {
    "name": "ipython",
    "version": 3
   },
   "file_extension": ".py",
   "mimetype": "text/x-python",
   "name": "python",
   "nbconvert_exporter": "python",
   "pygments_lexer": "ipython3",
   "version": "3.8.2"
  }
 },
 "nbformat": 4,
 "nbformat_minor": 4
}
