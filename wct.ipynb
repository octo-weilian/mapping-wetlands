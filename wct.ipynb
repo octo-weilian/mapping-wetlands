{
 "cells": [
  {
   "cell_type": "code",
   "execution_count": null,
   "metadata": {},
   "outputs": [],
   "source": [
    "from sklearn.cluster import MiniBatchKMeans\n",
    "import rasterio as rio\n",
    "import numpy as np\n",
    "\n",
    "def compute_cluster(img,k=4,random_seed=42):\n",
    "    img_float = img.astype(np.float32)/10000\n",
    "    samples = reshape_as_image(img_float).reshape(-1,img_float.shape[0])\n",
    "    kmeans_pred = MiniBatchKMeans(n_clusters=k+1, random_state=random_seed,max_iter=10,batch_size=10000,reassignment_ratio=0).fit(samples)\n",
    "    kmeans_pred_img = kmeans_pred.labels_.reshape(rws_rgb_img.shape[1], rws_rgb_img.shape[2]).astype(rio.uint16)\n",
    "    return kmeans_pred_img"
   ]
  }
 ],
 "metadata": {
  "kernelspec": {
   "display_name": "Python 3",
   "language": "python",
   "name": "python3"
  },
  "language_info": {
   "codemirror_mode": {
    "name": "ipython",
    "version": 3
   },
   "file_extension": ".py",
   "mimetype": "text/x-python",
   "name": "python",
   "nbconvert_exporter": "python",
   "pygments_lexer": "ipython3",
   "version": "3.8.2"
  }
 },
 "nbformat": 4,
 "nbformat_minor": 4
}
