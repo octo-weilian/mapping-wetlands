{
 "cells": [
  {
   "cell_type": "markdown",
   "metadata": {},
   "source": [
    "### Download Sentinel-2 image collection"
   ]
  },
  {
   "cell_type": "code",
   "execution_count": null,
   "metadata": {},
   "outputs": [],
   "source": [
    "import geemap\n",
    "import json\n",
    "import os\n",
    "import requests\n",
    "from geemap import geojson_to_ee, ee_to_geojson\n",
    "from ipyleaflet import GeoJSON\n",
    "import pandas as pd\n",
    "import ee"
   ]
  },
  {
   "cell_type": "code",
   "execution_count": null,
   "metadata": {
    "scrolled": true
   },
   "outputs": [],
   "source": [
    "#initialize GEE using your Google Account\n",
    "try:\n",
    "    ee.Initialize()\n",
    "except Exception as e:\n",
    "    ee.Authenticate()\n",
    "    ee.Initialize()"
   ]
  },
  {
   "cell_type": "code",
   "execution_count": null,
   "metadata": {},
   "outputs": [],
   "source": [
    "Map = geemap.Map(center=[-27.93186,32.48897],zoom=9)\n",
    "\n",
    "file_path = './data/boundaries/isimangaliso_bbox.geojson'\n",
    "with open(file_path) as f:\n",
    "    bbox = geojson_to_ee(json.load(f))\n",
    "    \n",
    "Map.addLayer(ee_object=bbox, vis_params={'color':'red','fillColor': '00000000'}, name=\"Isimangaliso Wetland Park\")\n",
    "Map"
   ]
  },
  {
   "cell_type": "code",
   "execution_count": null,
   "metadata": {},
   "outputs": [],
   "source": [
    "collection = ee.ImageCollection(\"COPERNICUS/S2_SR\") \\\n",
    "    .filterBounds(bbox).filterDate('2019-01-01','2019-01-30') \\\n",
    "    .filter(ee.Filter.inList('MGRS_TILE', ['36JVP','36JVQ'])) \\\n",
    "    .filter(ee.Filter.lte('CLOUDY_PIXEL_PERCENTAGE', 50)) \\\n",
    "    .select(['B4', 'B3', 'B2'])\n",
    "\n",
    "print(f'Found:{collection.size().getInfo()} matches')"
   ]
  },
  {
   "cell_type": "code",
   "execution_count": null,
   "metadata": {},
   "outputs": [],
   "source": [
    "collection_list = collection.toList(collection.size())"
   ]
  },
  {
   "cell_type": "code",
   "execution_count": null,
   "metadata": {},
   "outputs": [],
   "source": [
    "latest_meta = collection_list.get(1)\n",
    "geom = ee.Image(latest_meta).geometry()\n",
    "tile = latest_meta.getInfo()['properties']['PRODUCT_ID'].split('_')[5]\n",
    "Map.addLayer(geom , {'color': 'FF0000'}, tile)"
   ]
  },
  {
   "cell_type": "code",
   "execution_count": null,
   "metadata": {},
   "outputs": [],
   "source": [
    "image = collection.mosaic().clip(bbox)\n",
    "vizParams = {\n",
    "    'bands': ['B4', 'B3', 'B2'],\n",
    "    'gain': [0.1, 0.1, 0.1],\n",
    "    'scale':10\n",
    "};\n",
    "\n",
    "Map.addLayer(image, vizParams, 'RGB mosaic')\n"
   ]
  },
  {
   "cell_type": "code",
   "execution_count": null,
   "metadata": {},
   "outputs": [],
   "source": [
    "geemap.ee_export_image(image, filename='./data/test.tif', scale=10, region=bbox.geometry(), file_per_band=False)"
   ]
  },
  {
   "cell_type": "code",
   "execution_count": null,
   "metadata": {},
   "outputs": [],
   "source": [
    "os.remove('./data/test.zip')"
   ]
  },
  {
   "cell_type": "code",
   "execution_count": null,
   "metadata": {
    "scrolled": true
   },
   "outputs": [],
   "source": [
    "def get_meta_s2(meta):\n",
    "    product_id = meta['properties']['PRODUCT_ID']\n",
    "    date = pd.to_datetime(product_id.split('_')[2].split('T')[0]).date()\n",
    "    tile = product_id.split('_')[5]\n",
    "    cloud_cover = round(meta['properties']['CLOUD_COVERAGE_ASSESSMENT'],2)\n",
    "    data = {'id':product_id,'date':date,'tile':tile,'cloudcover':cloud_cover}\n",
    "    df = pd.DataFrame(data,index=[0])\n",
    "    return df"
   ]
  },
  {
   "cell_type": "code",
   "execution_count": null,
   "metadata": {},
   "outputs": [],
   "source": [
    "products = list(map(get_meta_s2,collection_list.getInfo()))\n",
    "products_df = pd.concat(products).reset_index(drop=True)\n",
    "products_df"
   ]
  },
  {
   "cell_type": "code",
   "execution_count": null,
   "metadata": {
    "scrolled": true
   },
   "outputs": [],
   "source": []
  }
 ],
 "metadata": {
  "kernelspec": {
   "display_name": "Python 3",
   "language": "python",
   "name": "python3"
  },
  "language_info": {
   "codemirror_mode": {
    "name": "ipython",
    "version": 3
   },
   "file_extension": ".py",
   "mimetype": "text/x-python",
   "name": "python",
   "nbconvert_exporter": "python",
   "pygments_lexer": "ipython3",
   "version": "3.8.2"
  }
 },
 "nbformat": 4,
 "nbformat_minor": 4
}
