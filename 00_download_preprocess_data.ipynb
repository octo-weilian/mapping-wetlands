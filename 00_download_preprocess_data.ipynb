{
 "cells": [
  {
   "cell_type": "markdown",
   "metadata": {},
   "source": [
    "### Download Sentinel-2 image collection"
   ]
  },
  {
   "cell_type": "code",
   "execution_count": null,
   "metadata": {},
   "outputs": [],
   "source": [
    "import geemap\n",
    "import json\n",
    "import os\n",
    "import requests\n",
    "from geemap import geojson_to_ee, ee_to_geojson\n",
    "from ipyleaflet import GeoJSON\n",
    "import pandas as pd\n"
   ]
  },
  {
   "cell_type": "code",
   "execution_count": null,
   "metadata": {
    "scrolled": true
   },
   "outputs": [],
   "source": [
    "#initialize GEE using your Google Account\n",
    "ee.Authenticate()\n",
    "ee.Initialize()"
   ]
  },
  {
   "cell_type": "code",
   "execution_count": null,
   "metadata": {},
   "outputs": [],
   "source": [
    "Map = geemap.Map(center=[-27.93186,32.48897],zoom=9)\n",
    "\n",
    "file_path = './data/boundaries/isimangaliso_bbox.geojson'\n",
    "with open(file_path) as f:\n",
    "    bbox = geojson_to_ee(json.load(f))\n",
    "    \n",
    "Map.addLayer(bbox, {}, \"Isimangaliso Wetland Park\")\n",
    "Map"
   ]
  },
  {
   "cell_type": "code",
   "execution_count": null,
   "metadata": {},
   "outputs": [],
   "source": [
    "collection = ee.ImageCollection(\"COPERNICUS/S2_SR\") \\\n",
    "    .filterBounds(bbox).filterDate('2019-01-01','2019-01-06')"
   ]
  },
  {
   "cell_type": "code",
   "execution_count": null,
   "metadata": {},
   "outputs": [],
   "source": [
    "collection_list = collection.toList(collection.size())\n",
    "latest_meta = collection_list.getInfo()[-1]"
   ]
  },
  {
   "cell_type": "code",
   "execution_count": null,
   "metadata": {
    "scrolled": true
   },
   "outputs": [],
   "source": [
    "def get_meta_s2(meta):\n",
    "    product_id = meta['properties']['PRODUCT_ID']\n",
    "    date = pd.to_datetime(product_id.split('_')[2].split('T')[0]).date()\n",
    "    tile = product_id.split('_')[5]\n",
    "    cloud_cover = meta['properties']['CLOUD_COVERAGE_ASSESSMENT']\n",
    "    data = {'id':product_id,'date':date,'tile':tile,'cloudcover':cloud_cover}\n",
    "    df = pd.DataFrame(data,index=[0])\n",
    "    return df"
   ]
  },
  {
   "cell_type": "code",
   "execution_count": null,
   "metadata": {},
   "outputs": [],
   "source": [
    "products = list(map(get_meta_s2,collection_list.getInfo()))\n",
    "products_df = pd.concat(products).reset_index(drop=True)"
   ]
  },
  {
   "cell_type": "code",
   "execution_count": null,
   "metadata": {},
   "outputs": [],
   "source": [
    "products_df"
   ]
  }
 ],
 "metadata": {
  "kernelspec": {
   "display_name": "Python 3",
   "language": "python",
   "name": "python3"
  },
  "language_info": {
   "codemirror_mode": {
    "name": "ipython",
    "version": 3
   },
   "file_extension": ".py",
   "mimetype": "text/x-python",
   "name": "python",
   "nbconvert_exporter": "python",
   "pygments_lexer": "ipython3",
   "version": "3.8.2"
  }
 },
 "nbformat": 4,
 "nbformat_minor": 4
}
